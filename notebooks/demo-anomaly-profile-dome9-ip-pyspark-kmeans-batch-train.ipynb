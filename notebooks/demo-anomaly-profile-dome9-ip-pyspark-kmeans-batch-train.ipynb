{
 "cells": [
  {
   "cell_type": "markdown",
   "metadata": {},
   "source": [
    "# Agenda for Today's Demo\n",
    "\n",
    "### 1. **Batch Model Training**\n",
    "\n",
    "### 2. **Batch Scoring**\n",
    "\n",
    "### 3. **Real-time Scoring**"
   ]
  },
  {
   "cell_type": "markdown",
   "metadata": {},
   "source": [
    "# call the libraries"
   ]
  },
  {
   "cell_type": "code",
   "execution_count": 1,
   "metadata": {},
   "outputs": [],
   "source": [
    "from pyspark.sql import SparkSession\n",
    "import matplotlib\n",
    "import matplotlib.pyplot as plt\n",
    "import numpy as np\n",
    "import io\n",
    "import numpy as np\n",
    "import scipy.stats as stats\n",
    "import pylab as pl\n",
    "from pyspark.ml.feature import StandardScaler\n",
    "from pyspark.ml.feature import VectorAssembler\n",
    "from pyspark.ml import Pipeline,PipelineModel\n",
    "from pyspark.ml.clustering import KMeans\n",
    "from pyspark.sql.functions import udf, col\n",
    "from pyspark.sql.types import *\n",
    "import numpy as np\n",
    "from pyspark.ml.feature import MinMaxScaler\n",
    "%matplotlib inline\n",
    "\n"
   ]
  },
  {
   "cell_type": "markdown",
   "metadata": {},
   "source": [
    "# initialize spark and spark context"
   ]
  },
  {
   "cell_type": "code",
   "execution_count": 2,
   "metadata": {},
   "outputs": [
    {
     "data": {
      "text/plain": [
       "'2.1.1'"
      ]
     },
     "execution_count": 2,
     "metadata": {},
     "output_type": "execute_result"
    }
   ],
   "source": [
    "spark = SparkSession.builder.appName('demo-anomaly-profile-dome9-ip-pyspark-kmeans-batch-train').getOrCreate()\n",
    "sc = spark.sparkContext\n",
    "sc.version"
   ]
  },
  {
   "cell_type": "code",
   "execution_count": 3,
   "metadata": {},
   "outputs": [],
   "source": [
    "data_source = \"dome9\"\n",
    "tenant_name = \"demo\"\n",
    "time_window=\"day\"\n",
    "entity_type=\"ip\"\n",
    "anomaly_type=\"profile\"\n",
    "model_type=\"pyspark\"\n",
    "model_name=\"kmeans\"\n",
    "\n",
    "BASE_PATH = \"/Users/tuhinsharma/Documents/sstech/\"+tenant_name\n",
    "ANOMALY_DATA_REPOSITORY = BASE_PATH + \"/models_data/data\"\n",
    "\n",
    "USER_PROFILE_DATA_PATH = ANOMALY_DATA_REPOSITORY + \"/{data_source}/{entity_type}/{anomaly_type}/{time_window}.json\"\n",
    "data_path = USER_PROFILE_DATA_PATH.format\\\n",
    "                                           (data_source=data_source,\\\n",
    "                                            entity_type=entity_type,anomaly_type=\"profile\",time_window=time_window)\n",
    "    \n",
    "ANOMALY_MODEL_REPOSITORY = BASE_PATH + \"/models_data/model\"\n",
    "PROFILE_ANOMALY_MODEL_PATH = ANOMALY_MODEL_REPOSITORY + \"/{data_source}/{entity_type}/{anomaly_type}/{time_window}/{model_type}/{model_name}\"\n"
   ]
  },
  {
   "cell_type": "markdown",
   "metadata": {},
   "source": [
    "# Lets load the Profile data for DOME9 with 3 attributes"
   ]
  },
  {
   "cell_type": "code",
   "execution_count": 4,
   "metadata": {},
   "outputs": [
    {
     "name": "stdout",
     "output_type": "stream",
     "text": [
      "+------------------+-----------------+----------------+-----------+-------------------+-----------+\n",
      "|inbound_conn_count|increase_activity|lateral_movement|logon_count|outbound_conn_count|     src_ip|\n",
      "+------------------+-----------------+----------------+-----------+-------------------+-----------+\n",
      "|              1446|            False|           False|        655|               1115|  54.85.1.3|\n",
      "|              1421|            False|           False|        635|               1115| 54.85.5.15|\n",
      "|              1392|             True|           False|        629|               1090|54.85.10.16|\n",
      "+------------------+-----------------+----------------+-----------+-------------------+-----------+\n",
      "only showing top 3 rows\n",
      "\n"
     ]
    }
   ],
   "source": [
    "ip_profile_sdf = spark.read.json(data_path).persist()\n",
    "ip_profile_sdf.show(3)"
   ]
  },
  {
   "cell_type": "markdown",
   "metadata": {},
   "source": [
    "# Convert to Pandas dataframe"
   ]
  },
  {
   "cell_type": "code",
   "execution_count": 5,
   "metadata": {},
   "outputs": [],
   "source": [
    "ip_profile_df = ip_profile_sdf.toPandas()"
   ]
  },
  {
   "cell_type": "markdown",
   "metadata": {},
   "source": [
    "# Visualize and Understand trend"
   ]
  },
  {
   "cell_type": "code",
   "execution_count": 6,
   "metadata": {},
   "outputs": [],
   "source": [
    "logon_count = ip_profile_df[\"logon_count\"]\n",
    "inbound_conn_count = ip_profile_df[\"inbound_conn_count\"]\n",
    "outbound_conn_count = ip_profile_df[\"outbound_conn_count\"]\n",
    "\n"
   ]
  },
  {
   "cell_type": "markdown",
   "metadata": {},
   "source": [
    "### Boxplot for logon_count and inbound_conn_count and outbound_conn_count\n"
   ]
  },
  {
   "cell_type": "code",
   "execution_count": 7,
   "metadata": {},
   "outputs": [
    {
     "data": {
      "image/png": "[encoded data removed]",
      "text/plain": [
       "<Figure size 1080x576 with 3 Axes>"
      ]
     },
     "metadata": {
      "needs_background": "light"
     },
     "output_type": "display_data"
    }
   ],
   "source": [
    "plt.close()\n",
    "\n",
    "fig, axs = plt.subplots(1, 3, sharey=True, tight_layout=False,figsize=(15,8))\n",
    "axs[0].boxplot(logon_count)\n",
    "axs[0].title.set_text('logon_count')\n",
    "axs[0].set_ylabel('Count')\n",
    "\n",
    "\n",
    "axs[1].boxplot(inbound_conn_count)\n",
    "axs[1].title.set_text('inbound_conn_count')\n",
    "axs[1].set_ylabel('Count')\n",
    "\n",
    "\n",
    "axs[2].boxplot(outbound_conn_count)\n",
    "axs[2].title.set_text('outbound_conn_count')\n",
    "axs[2].set_ylabel('Count')\n",
    "\n",
    "\n",
    "fig.suptitle(\"BoxPlot\", fontsize=24,)\n",
    "\n",
    "plt.show()\n",
    "plt.close()\n",
    "\n"
   ]
  },
  {
   "cell_type": "markdown",
   "metadata": {},
   "source": [
    "### Density plot for logon_count and inbound_conn_count and outbound_conn_count"
   ]
  },
  {
   "cell_type": "code",
   "execution_count": 8,
   "metadata": {},
   "outputs": [
    {
     "data": {
      "image/png": "[encoded data removed]",
      "text/plain": [
       "<Figure size 1080x576 with 3 Axes>"
      ]
     },
     "metadata": {
      "needs_background": "light"
     },
     "output_type": "display_data"
    }
   ],
   "source": [
    "plt.close()\n",
    "\n",
    "h1 = sorted(logon_count)\n",
    "h2 = sorted(inbound_conn_count)\n",
    "h3 = sorted(outbound_conn_count)\n",
    "\n",
    "fit1 = stats.norm.pdf(h1, np.mean(h1), np.std(h1))\n",
    "fit2 = stats.norm.pdf(h2, np.mean(h2), np.std(h2))\n",
    "fit3 = stats.norm.pdf(h3, np.mean(h3), np.std(h3))\n",
    "\n",
    "\n",
    "fig, axs = plt.subplots(1, 3, sharey=True, tight_layout=False,figsize=(15,8))\n",
    "\n",
    "axs[0].plot(h1,fit1,'-o')\n",
    "axs[0].hist(h1,density=True)\n",
    "axs[0].title.set_text('logon_count')\n",
    "axs[0].set_ylabel('pdf')\n",
    "axs[0].set_xlabel('count')\n",
    "\n",
    "\n",
    "axs[1].plot(h2,fit2,'-o')\n",
    "axs[1].hist(h2,density=True)\n",
    "axs[1].title.set_text('inbound_conn_count')\n",
    "axs[1].set_ylabel('pdf')\n",
    "axs[1].set_xlabel('count')\n",
    "\n",
    "\n",
    "axs[2].plot(h3,fit3,'-o')\n",
    "axs[2].hist(h3,density=True)\n",
    "axs[2].title.set_text('outbound_conn_count')\n",
    "axs[2].set_ylabel('pdf')\n",
    "axs[2].set_xlabel('count')\n",
    "\n",
    "fig.suptitle(\"Density Plot\", fontsize=24)\n",
    "\n",
    "\n",
    "\n",
    "plt.show()\n",
    "plt.close()\n",
    "\n",
    "\n"
   ]
  },
  {
   "cell_type": "markdown",
   "metadata": {},
   "source": [
    "### Histogram plot for logon_count and inbound_conn_count and outbound_conn_count"
   ]
  },
  {
   "cell_type": "code",
   "execution_count": 9,
   "metadata": {},
   "outputs": [
    {
     "data": {
      "image/png": "[encoded data removed]",
      "text/plain": [
       "<Figure size 1080x576 with 3 Axes>"
      ]
     },
     "metadata": {
      "needs_background": "light"
     },
     "output_type": "display_data"
    }
   ],
   "source": [
    "plt.close()\n",
    "n_bins = 20\n",
    "\n",
    "fig, axs = plt.subplots(1, 3, sharey=True, tight_layout=False,figsize=(15,8))\n",
    "\n",
    "axs[0].hist(logon_count, bins=n_bins)\n",
    "axs[0].title.set_text('logon_count')\n",
    "axs[0].set_ylabel('frequency')\n",
    "axs[0].set_xlabel('count')\n",
    "\n",
    "\n",
    "axs[1].hist(inbound_conn_count, bins=n_bins)\n",
    "axs[1].title.set_text('inbound_conn_count')\n",
    "axs[1].set_ylabel('frequency')\n",
    "axs[1].set_xlabel('count')\n",
    "\n",
    "\n",
    "axs[2].hist(outbound_conn_count, bins=n_bins)\n",
    "axs[2].title.set_text('outbound_conn_count')\n",
    "axs[2].set_ylabel('frequency')\n",
    "axs[2].set_xlabel('count')\n",
    "\n",
    "fig.suptitle(\"Histogram Plot\", fontsize=24)\n",
    "\n",
    "plt.show()\n",
    "plt.close()"
   ]
  },
  {
   "cell_type": "markdown",
   "metadata": {},
   "source": [
    "## Define the columns on which Model shall be trained"
   ]
  },
  {
   "cell_type": "code",
   "execution_count": 10,
   "metadata": {},
   "outputs": [],
   "source": [
    "cat_colnames = [\"increase_activity\",\"lateral_movement\"]\n",
    "num_colnames = [\"logon_count\",\"inbound_conn_count\",\"outbound_conn_count\"]"
   ]
  },
  {
   "cell_type": "markdown",
   "metadata": {},
   "source": [
    "# Batch Training"
   ]
  },
  {
   "cell_type": "markdown",
   "metadata": {},
   "source": [
    "### Clustering Pipelinemodel"
   ]
  },
  {
   "cell_type": "code",
   "execution_count": 11,
   "metadata": {},
   "outputs": [],
   "source": [
    "from pyspark.ml.feature import OneHotEncoder, StringIndexer\n",
    "string_indexer_list = list()\n",
    "one_hot_encoder_list = list()\n",
    "for cat_colname in cat_colnames:\n",
    "    string_indexer = StringIndexer(inputCol=cat_colname, outputCol=cat_colname+\"_index\")\n",
    "    string_indexer_list.append(string_indexer)\n",
    "    one_hot_encoder = OneHotEncoder(inputCol=cat_colname+\"_index\", outputCol=cat_colname+\"_vec\")\n",
    "    one_hot_encoder_list.append(one_hot_encoder)"
   ]
  },
  {
   "cell_type": "code",
   "execution_count": 12,
   "metadata": {},
   "outputs": [],
   "source": [
    "out = []\n",
    "pipe = []\n",
    "if len(num_colnames)>0:\n",
    "    assembler = VectorAssembler(inputCols=num_colnames,outputCol=\"features_vec\")\n",
    "    standard_scaler = StandardScaler(inputCol=\"features_vec\", outputCol=\"features_zs\",withMean=True,withStd=True)\n",
    "    out = [standard_scaler.getOutputCol()]\n",
    "    pipe = [assembler,standard_scaler]\n",
    "assembler_2 = VectorAssembler(inputCols=[x.getOutputCol() for x in one_hot_encoder_list]+out,outputCol=\"features\")\n",
    "estimator = KMeans(featuresCol=\"features\",predictionCol=\"cluster_id\",k=4)\n",
    "\n",
    "clustering_pipeline = Pipeline(stages=string_indexer_list+one_hot_encoder_list+pipe+[assembler_2]+[estimator])\n",
    "clustering_pipeline_model = clustering_pipeline.fit(ip_profile_sdf)\n",
    "\n"
   ]
  },
  {
   "cell_type": "code",
   "execution_count": 13,
   "metadata": {},
   "outputs": [
    {
     "name": "stdout",
     "output_type": "stream",
     "text": [
      "+------------------+-----------------+----------------+-----------+-------------------+-----------+-----------------------+----------------------+---------------------+--------------------+--------------------+--------------------+--------------------+----------+\n",
      "|inbound_conn_count|increase_activity|lateral_movement|logon_count|outbound_conn_count|     src_ip|increase_activity_index|lateral_movement_index|increase_activity_vec|lateral_movement_vec|        features_vec|         features_zs|            features|cluster_id|\n",
      "+------------------+-----------------+----------------+-----------+-------------------+-----------+-----------------------+----------------------+---------------------+--------------------+--------------------+--------------------+--------------------+----------+\n",
      "|              1446|            False|           False|        655|               1115|  54.85.1.3|                    1.0|                   1.0|            (1,[],[])|           (1,[],[])|[655.0,1446.0,111...|[-0.7708808156719...|[0.0,0.0,-0.77088...|         0|\n",
      "|              1421|            False|           False|        635|               1115| 54.85.5.15|                    1.0|                   1.0|            (1,[],[])|           (1,[],[])|[635.0,1421.0,111...|[-0.8931054509271...|[0.0,0.0,-0.89310...|         0|\n",
      "|              1392|             True|           False|        629|               1090|54.85.10.16|                    0.0|                   1.0|        (1,[0],[1.0])|           (1,[],[])|[629.0,1392.0,109...|[-0.9297728415037...|[1.0,0.0,-0.92977...|         0|\n",
      "+------------------+-----------------+----------------+-----------+-------------------+-----------+-----------------------+----------------------+---------------------+--------------------+--------------------+--------------------+--------------------+----------+\n",
      "only showing top 3 rows\n",
      "\n"
     ]
    }
   ],
   "source": [
    "result_cluster_sdf = clustering_pipeline_model.transform(ip_profile_sdf).persist()\n",
    "result_cluster_sdf.show(3)"
   ]
  },
  {
   "cell_type": "markdown",
   "metadata": {},
   "source": [
    "### For each data points calculate sum of euclidean distance (SED) for all the cluster centroids"
   ]
  },
  {
   "cell_type": "code",
   "execution_count": 14,
   "metadata": {},
   "outputs": [
    {
     "name": "stdout",
     "output_type": "stream",
     "text": [
      "number of centroids :  4\n",
      "[[ 0.66831683  0.36138614 -0.94998226  0.98998584  0.99410979]\n",
      " [ 0.          1.         -0.98850857  0.94929888  0.95640871]\n",
      " [ 0.50775194  0.          0.97055968 -0.98689457 -0.98747742]\n",
      " [ 0.5202952   1.          0.95181002 -0.97766472 -0.98656339]]\n",
      "+------------------+-----------------+----------------+-----------+-------------------+-----------+-----------------------+----------------------+---------------------+--------------------+--------------------+--------------------+--------------------+----------+--------+\n",
      "|inbound_conn_count|increase_activity|lateral_movement|logon_count|outbound_conn_count|     src_ip|increase_activity_index|lateral_movement_index|increase_activity_vec|lateral_movement_vec|        features_vec|         features_zs|            features|cluster_id|     sed|\n",
      "+------------------+-----------------+----------------+-----------+-------------------+-----------+-----------------------+----------------------+---------------------+--------------------+--------------------+--------------------+--------------------+----------+--------+\n",
      "|              1446|            False|           False|        655|               1115|  54.85.1.3|                    1.0|                   1.0|            (1,[],[])|           (1,[],[])|[655.0,1446.0,111...|[-0.7708808156719...|[0.0,0.0,-0.77088...|         0|8.635469|\n",
      "|              1421|            False|           False|        635|               1115| 54.85.5.15|                    1.0|                   1.0|            (1,[],[])|           (1,[],[])|[635.0,1421.0,111...|[-0.8931054509271...|[0.0,0.0,-0.89310...|         0|8.669409|\n",
      "|              1392|             True|           False|        629|               1090|54.85.10.16|                    0.0|                   1.0|        (1,[0],[1.0])|           (1,[],[])|[629.0,1392.0,109...|[-0.9297728415037...|[1.0,0.0,-0.92977...|         0|8.722841|\n",
      "+------------------+-----------------+----------------+-----------+-------------------+-----------+-----------------------+----------------------+---------------------+--------------------+--------------------+--------------------+--------------------+----------+--------+\n",
      "only showing top 3 rows\n",
      "\n"
     ]
    }
   ],
   "source": [
    "def calculate_SED_from_all_centroids(value,centroids):\n",
    "    single_point = value\n",
    "    points = centroids\n",
    "\n",
    "    dist = (points - single_point)**2\n",
    "    dist = np.sum(dist, axis=1)\n",
    "    dist = np.sqrt(dist)\n",
    "    dist = np.sum(dist)\n",
    "    return float(dist)\n",
    "\n",
    "def udf_calculate_SED(centroid_list):\n",
    "    return udf(lambda l: calculate_SED_from_all_centroids(l, centroid_list),FloatType())\n",
    "\n",
    "centroids = np.array(clustering_pipeline_model.stages[-1].clusterCenters())\n",
    "print(\"number of centroids : \",centroids.shape[0])\n",
    "print(centroids)\n",
    "\n",
    "result_score_sdf = result_cluster_sdf.withColumn(\"sed\", udf_calculate_SED(centroids)(col(\"features\")))\n",
    "result_score_sdf.show(3)"
   ]
  },
  {
   "cell_type": "markdown",
   "metadata": {},
   "source": [
    "### Calculate Anomaly Score based on the sed"
   ]
  },
  {
   "cell_type": "code",
   "execution_count": 15,
   "metadata": {},
   "outputs": [
    {
     "name": "stdout",
     "output_type": "stream",
     "text": [
      "+------------------+-----------------+----------------+-----------+-------------------+-----------+-----------------------+----------------------+---------------------+--------------------+--------------------+--------------------+--------------------+----------+--------+-------------------+--------------------+\n",
      "|inbound_conn_count|increase_activity|lateral_movement|logon_count|outbound_conn_count|     src_ip|increase_activity_index|lateral_movement_index|increase_activity_vec|lateral_movement_vec|        features_vec|         features_zs|            features|cluster_id|     sed|            sed_vec|          scaled_sed|\n",
      "+------------------+-----------------+----------------+-----------+-------------------+-----------+-----------------------+----------------------+---------------------+--------------------+--------------------+--------------------+--------------------+----------+--------+-------------------+--------------------+\n",
      "|              1446|            False|           False|        655|               1115|  54.85.1.3|                    1.0|                   1.0|            (1,[],[])|           (1,[],[])|[655.0,1446.0,111...|[-0.7708808156719...|[0.0,0.0,-0.77088...|         0|8.635469|[8.635469436645508]|[0.07403739282000...|\n",
      "|              1421|            False|           False|        635|               1115| 54.85.5.15|                    1.0|                   1.0|            (1,[],[])|           (1,[],[])|[635.0,1421.0,111...|[-0.8931054509271...|[0.0,0.0,-0.89310...|         0|8.669409|[8.669408798217773]|[0.07714168528852...|\n",
      "|              1392|             True|           False|        629|               1090|54.85.10.16|                    0.0|                   1.0|        (1,[0],[1.0])|           (1,[],[])|[629.0,1392.0,109...|[-0.9297728415037...|[1.0,0.0,-0.92977...|         0|8.722841|[8.722841262817383]|[0.0820289309451065]|\n",
      "+------------------+-----------------+----------------+-----------+-------------------+-----------+-----------------------+----------------------+---------------------+--------------------+--------------------+--------------------+--------------------+----------+--------+-------------------+--------------------+\n",
      "only showing top 3 rows\n",
      "\n"
     ]
    }
   ],
   "source": [
    "assembler = VectorAssembler(inputCols=[\"sed\"],outputCol=\"sed_vec\")\n",
    "scaler = MinMaxScaler(inputCol=\"sed_vec\", outputCol=\"scaled_sed\")\n",
    "\n",
    "scoring_pipeline = Pipeline(stages=[assembler,scaler])\n",
    "scoring_pipeline_model = scoring_pipeline.fit(result_score_sdf)\n",
    "\n",
    "result_scaler_sdf = scoring_pipeline_model.transform(result_score_sdf)\n",
    "result_scaler_sdf.show(3)"
   ]
  },
  {
   "cell_type": "code",
   "execution_count": 16,
   "metadata": {},
   "outputs": [],
   "source": [
    "model_path = PROFILE_ANOMALY_MODEL_PATH.format(data_source=data_source,\\\n",
    "                                  entity_type=entity_type,anomaly_type=anomaly_type,time_window=time_window,\\\n",
    "                                 model_type=model_type,model_name=model_name)"
   ]
  },
  {
   "cell_type": "markdown",
   "metadata": {},
   "source": [
    "### Save the Clustering Pipelinemodel"
   ]
  },
  {
   "cell_type": "code",
   "execution_count": 17,
   "metadata": {},
   "outputs": [],
   "source": [
    "\n",
    "clustering_pipeline_model.write().overwrite().save(model_path+\"/clustering_pipeline_model\")\n"
   ]
  },
  {
   "cell_type": "markdown",
   "metadata": {},
   "source": [
    "### Save the Scoring Pipelinemodel"
   ]
  },
  {
   "cell_type": "code",
   "execution_count": 18,
   "metadata": {},
   "outputs": [],
   "source": [
    "\n",
    "scoring_pipeline_model.write().overwrite().save(model_path+\"/scoring_pipeline_model\")\n"
   ]
  },
  {
   "cell_type": "code",
   "execution_count": null,
   "metadata": {},
   "outputs": [],
   "source": []
  }
 ],
 "metadata": {
  "kernelspec": {
   "display_name": "sstech-models-v3",
   "language": "python",
   "name": "sstech-models-v3"
  },
  "language_info": {
   "codemirror_mode": {
    "name": "ipython",
    "version": 3
   },
   "file_extension": ".py",
   "mimetype": "text/x-python",
   "name": "python",
   "nbconvert_exporter": "python",
   "pygments_lexer": "ipython3",
   "version": "3.6.5"
  }
 },
 "nbformat": 4,
 "nbformat_minor": 2
}
