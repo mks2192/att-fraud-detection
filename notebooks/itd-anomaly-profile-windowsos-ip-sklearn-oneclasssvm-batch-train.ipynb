{
 "cells": [
  {
   "cell_type": "markdown",
   "metadata": {},
   "source": [
    "# call the libraries"
   ]
  },
  {
   "cell_type": "code",
   "execution_count": 1,
   "metadata": {},
   "outputs": [],
   "source": [
    "from pyspark.sql import SparkSession\n",
    "import matplotlib\n",
    "import matplotlib.pyplot as plt\n",
    "import numpy as np\n",
    "import io\n",
    "import numpy as np\n",
    "import os\n",
    "\n",
    "\n",
    "import scipy.stats as stats\n",
    "import numpy as np\n",
    "from sklearn.svm import OneClassSVM\n",
    "import pandas as pd\n",
    "from sklearn.pipeline import Pipeline\n",
    "from sklearn.preprocessing import StandardScaler, MinMaxScaler,OneHotEncoder\n",
    "%matplotlib inline\n",
    "import pickle"
   ]
  },
  {
   "cell_type": "markdown",
   "metadata": {},
   "source": [
    "# initialize spark and spark context"
   ]
  },
  {
   "cell_type": "code",
   "execution_count": 2,
   "metadata": {},
   "outputs": [
    {
     "data": {
      "text/plain": [
       "'2.1.1'"
      ]
     },
     "execution_count": 2,
     "metadata": {},
     "output_type": "execute_result"
    }
   ],
   "source": [
    "spark = SparkSession.builder.appName('itd-anomaly-profile-windowsos-ip-sklearn-oneclasssvm-batch-train').getOrCreate()\n",
    "sc = spark.sparkContext\n",
    "sc.version"
   ]
  },
  {
   "cell_type": "code",
   "execution_count": 3,
   "metadata": {},
   "outputs": [],
   "source": [
    "data_source = \"windowsos\"\n",
    "tenant_name = \"itd\"\n",
    "time_window=\"day\"\n",
    "entity_type=\"ip\"\n",
    "anomaly_type=\"profile\"\n",
    "model_type=\"sklearn\"\n",
    "model_name=\"oneclasssvm\"\n",
    "\n",
    "BASE_PATH = \"/Users/tuhinsharma/Documents/sstech/\"+tenant_name\n",
    "ANOMALY_DATA_REPOSITORY = BASE_PATH + \"/models_data/data\"\n",
    "\n",
    "USER_PROFILE_DATA_PATH = ANOMALY_DATA_REPOSITORY + \"/{data_source}/{entity_type}/{anomaly_type}/{time_window}.json\"\n",
    "data_path = USER_PROFILE_DATA_PATH.format\\\n",
    "                                           (data_source=data_source,\\\n",
    "                                            entity_type=entity_type,anomaly_type=\"profile\",time_window=time_window)\n",
    "    \n",
    "ANOMALY_MODEL_REPOSITORY = BASE_PATH + \"/models_data/model\"\n",
    "PROFILE_ANOMALY_MODEL_PATH = ANOMALY_MODEL_REPOSITORY + \"/{data_source}/{entity_type}/{anomaly_type}/{time_window}/{model_type}/{model_name}\"\n"
   ]
  },
  {
   "cell_type": "markdown",
   "metadata": {},
   "source": [
    "# Lets load the Profile data for DOME9 with 3 attributes"
   ]
  },
  {
   "cell_type": "code",
   "execution_count": 4,
   "metadata": {},
   "outputs": [
    {
     "name": "stdout",
     "output_type": "stream",
     "text": [
      "+---------------+-----------------+----------------+-----------+---------------------+\n",
      "|dns_error_count|increase_activity|lateral_movement|     src_ip|upload_download_ratio|\n",
      "+---------------+-----------------+----------------+-----------+---------------------+\n",
      "|           1426|            False|            True|  54.85.1.3|                  619|\n",
      "|           1446|             True|            True| 54.85.5.15|                  655|\n",
      "|           1441|             True|            True|54.85.10.16|                  614|\n",
      "+---------------+-----------------+----------------+-----------+---------------------+\n",
      "only showing top 3 rows\n",
      "\n"
     ]
    }
   ],
   "source": [
    "ip_profile_sdf = spark.read.json(data_path).persist()\n",
    "ip_profile_sdf.show(3)"
   ]
  },
  {
   "cell_type": "markdown",
   "metadata": {},
   "source": [
    "## Define the columns on which Model shall be trained"
   ]
  },
  {
   "cell_type": "code",
   "execution_count": 5,
   "metadata": {},
   "outputs": [],
   "source": [
    "cat_colnames = [\"increase_activity\",\"lateral_movement\"]\n",
    "num_colnames = [\"upload_download_ratio\",\"dns_error_count\"]\n",
    "ip_profile_df = ip_profile_sdf.toPandas()\n",
    "num_data = ip_profile_df[num_colnames].values.astype(np.float64)\n",
    "if len(cat_colnames)>0:\n",
    "    cat_data = ip_profile_df[cat_colnames].values"
   ]
  },
  {
   "cell_type": "markdown",
   "metadata": {},
   "source": [
    "# Batch Training"
   ]
  },
  {
   "cell_type": "markdown",
   "metadata": {},
   "source": [
    "### OneclassSVM Pipelinemodel"
   ]
  },
  {
   "cell_type": "code",
   "execution_count": 6,
   "metadata": {},
   "outputs": [],
   "source": [
    "standard_scaler = None\n",
    "if len(num_colnames)>0:\n",
    "    standard_scaler = StandardScaler()\n",
    "    num_data_normalized = standard_scaler.fit_transform(num_data)"
   ]
  },
  {
   "cell_type": "code",
   "execution_count": 7,
   "metadata": {},
   "outputs": [],
   "source": [
    "one_hot_encoder = None\n",
    "if len(cat_colnames)>0:\n",
    "    one_hot_encoder = OneHotEncoder()\n",
    "    cat_data_encoded = one_hot_encoder.fit_transform(cat_data).toarray()"
   ]
  },
  {
   "cell_type": "code",
   "execution_count": 8,
   "metadata": {},
   "outputs": [],
   "source": [
    "if len(num_colnames)>0 and len(cat_colnames)>0:\n",
    "    data = np.concatenate((num_data_normalized,cat_data_encoded),axis=1)\n",
    "elif len(cat_colnames):\n",
    "    data = cat_data_encoded\n",
    "elif len(num_colnames):\n",
    "    data = num_data_normalized"
   ]
  },
  {
   "cell_type": "code",
   "execution_count": 9,
   "metadata": {},
   "outputs": [],
   "source": [
    "svm = OneClassSVM(kernel=\"rbf\",gamma=0.1)\n",
    "svm_model = svm.fit(data)"
   ]
  },
  {
   "cell_type": "code",
   "execution_count": 10,
   "metadata": {},
   "outputs": [],
   "source": [
    "ip_profile_df[\"score\"] = svm_model.decision_function(data).reshape(-1, 1)*-1"
   ]
  },
  {
   "cell_type": "markdown",
   "metadata": {},
   "source": [
    "### scoring pipelinemodel"
   ]
  },
  {
   "cell_type": "code",
   "execution_count": 11,
   "metadata": {},
   "outputs": [],
   "source": [
    "score = ip_profile_df[\"score\"].values.reshape(-1, 1)\n",
    "minmax_scaler = MinMaxScaler(feature_range=(0,100))\n",
    "scoring_pipeline = Pipeline(steps=[(\"MinMaxScaler\",minmax_scaler)])\n",
    "scoring_pipeline_model = scoring_pipeline.fit(score)"
   ]
  },
  {
   "cell_type": "code",
   "execution_count": 12,
   "metadata": {},
   "outputs": [
    {
     "data": {
      "text/plain": [
       "0"
      ]
     },
     "execution_count": 12,
     "metadata": {},
     "output_type": "execute_result"
    }
   ],
   "source": [
    "model_path = PROFILE_ANOMALY_MODEL_PATH.format(data_source=data_source,\\\n",
    "                                  entity_type=entity_type,anomaly_type=anomaly_type,time_window=time_window,\\\n",
    "                                 model_type=model_type,model_name=model_name)\n",
    "\n",
    "os.system(\"hdfs dfs -rm -r \"+model_path)"
   ]
  },
  {
   "cell_type": "markdown",
   "metadata": {},
   "source": [
    "### Save the Clustering Pipelinemodel"
   ]
  },
  {
   "cell_type": "code",
   "execution_count": 13,
   "metadata": {},
   "outputs": [],
   "source": [
    "svm_pipeline_model_rdd = sc.parallelize([{\"cat_colnames\":cat_colnames,\"num_colnames\":num_colnames,\"standard_scaler\":standard_scaler,\"one_hot_encoder\":one_hot_encoder,\"svm_model\":svm_model}])\n",
    "svm_pipeline_model_rdd.saveAsPickleFile(model_path+\"/svm_pipeline_model\")\n"
   ]
  },
  {
   "cell_type": "markdown",
   "metadata": {},
   "source": [
    "### Save the Scoring Pipelinemodel"
   ]
  },
  {
   "cell_type": "code",
   "execution_count": 14,
   "metadata": {},
   "outputs": [],
   "source": [
    "scoring_pipeline_model_rdd = sc.parallelize([scoring_pipeline_model])\n",
    "scoring_pipeline_model_rdd.saveAsPickleFile(model_path+\"/scoring_pipeline_model\")"
   ]
  }
 ],
 "metadata": {
  "kernelspec": {
   "display_name": "sstech-models-v3",
   "language": "python",
   "name": "sstech-models-v3"
  },
  "language_info": {
   "codemirror_mode": {
    "name": "ipython",
    "version": 3
   },
   "file_extension": ".py",
   "mimetype": "text/x-python",
   "name": "python",
   "nbconvert_exporter": "python",
   "pygments_lexer": "ipython3",
   "version": "3.6.5"
  }
 },
 "nbformat": 4,
 "nbformat_minor": 2
}
