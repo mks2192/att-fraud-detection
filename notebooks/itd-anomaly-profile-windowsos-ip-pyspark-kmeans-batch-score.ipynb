{
 "cells": [
  {
   "cell_type": "markdown",
   "metadata": {},
   "source": [
    "# call the libraries"
   ]
  },
  {
   "cell_type": "code",
   "execution_count": 1,
   "metadata": {},
   "outputs": [
    {
     "data": {
      "text/html": [
       "<script type=\"text/javascript\">window.PlotlyConfig = {MathJaxConfig: 'local'};</script><script type=\"text/javascript\">if (window.MathJax) {MathJax.Hub.Config({SVG: {font: \"STIX-Web\"}});}</script><script>requirejs.config({paths: { 'plotly': ['https://cdn.plot.ly/plotly-latest.min']},});if(!window._Plotly) {require(['plotly'],function(plotly) {window._Plotly=plotly;});}</script>"
      ],
      "text/vnd.plotly.v1+html": [
       "<script type=\"text/javascript\">window.PlotlyConfig = {MathJaxConfig: 'local'};</script><script type=\"text/javascript\">if (window.MathJax) {MathJax.Hub.Config({SVG: {font: \"STIX-Web\"}});}</script><script>requirejs.config({paths: { 'plotly': ['https://cdn.plot.ly/plotly-latest.min']},});if(!window._Plotly) {require(['plotly'],function(plotly) {window._Plotly=plotly;});}</script>"
      ]
     },
     "metadata": {},
     "output_type": "display_data"
    }
   ],
   "source": [
    "from pyspark.sql import SparkSession\n",
    "from pyspark.ml import Pipeline,PipelineModel\n",
    "from pyspark.ml import Pipeline,PipelineModel\n",
    "from pyspark.sql.functions import udf, col\n",
    "from pyspark.sql.types import *\n",
    "import numpy as np\n",
    "from pyspark.ml.feature import MinMaxScaler\n",
    "from mpl_toolkits.mplot3d import Axes3D  # noqa: F401 unused import\n",
    "import matplotlib.pyplot as plt\n",
    "import numpy as np\n",
    "from plotly import __version__\n",
    "from plotly.offline import download_plotlyjs, init_notebook_mode, plot, iplot\n",
    "import plotly.graph_objs as go\n",
    "import numpy as np\n",
    "import plotly\n",
    "init_notebook_mode(connected=True)\n",
    "%matplotlib inline\n",
    "\n"
   ]
  },
  {
   "cell_type": "markdown",
   "metadata": {},
   "source": [
    "# initialize spark and spark context"
   ]
  },
  {
   "cell_type": "code",
   "execution_count": 2,
   "metadata": {},
   "outputs": [
    {
     "data": {
      "text/plain": [
       "'2.1.1'"
      ]
     },
     "execution_count": 2,
     "metadata": {},
     "output_type": "execute_result"
    }
   ],
   "source": [
    "spark = SparkSession.builder.appName('itd-anomaly-profile-windowsos-entity-pyspark-kmeans-batch-score').getOrCreate()\n",
    "sc = spark.sparkContext\n",
    "sc.version"
   ]
  },
  {
   "cell_type": "code",
   "execution_count": 3,
   "metadata": {},
   "outputs": [],
   "source": [
    "data_source = \"windowsos\"\n",
    "tenant_name = \"itd\"\n",
    "time_window=\"day\"\n",
    "entity_type=\"ip\"\n",
    "anomaly_type=\"profile\"\n",
    "model_type=\"pyspark\"\n",
    "model_name=\"kmeans\"\n",
    "\n",
    "BASE_PATH = \"/Users/tuhinsharma/Documents/sstech/\"+tenant_name\n",
    "ANOMALY_DATA_REPOSITORY = BASE_PATH + \"/models_data/data\"\n",
    "\n",
    "USER_PROFILE_DATA_PATH = ANOMALY_DATA_REPOSITORY + \"/{data_source}/{entity_type}/{anomaly_type}/{time_window}.json\"\n",
    "data_path = USER_PROFILE_DATA_PATH.format\\\n",
    "                                           (data_source=data_source,\\\n",
    "                                            entity_type=entity_type,anomaly_type=\"profile\",time_window=time_window)\n",
    "    \n",
    "ANOMALY_MODEL_REPOSITORY = BASE_PATH + \"/models_data/model\"\n",
    "PROFILE_ANOMALY_MODEL_PATH = ANOMALY_MODEL_REPOSITORY + \"/{data_source}/{entity_type}/{anomaly_type}/{time_window}/{model_type}/{model_name}\"\n",
    "\n"
   ]
  },
  {
   "cell_type": "markdown",
   "metadata": {},
   "source": [
    "# lets load the Profile data for DOME9 with 3 attributes"
   ]
  },
  {
   "cell_type": "code",
   "execution_count": 4,
   "metadata": {},
   "outputs": [
    {
     "name": "stdout",
     "output_type": "stream",
     "text": [
      "+---------------+-----------------+----------------+-----------+---------------------+\n",
      "|dns_error_count|increase_activity|lateral_movement|     src_ip|upload_download_ratio|\n",
      "+---------------+-----------------+----------------+-----------+---------------------+\n",
      "|           1426|            False|            True|  54.85.1.3|                  619|\n",
      "|           1446|             True|           False| 54.85.5.15|                  655|\n",
      "|           1441|            False|            True|54.85.10.16|                  614|\n",
      "+---------------+-----------------+----------------+-----------+---------------------+\n",
      "only showing top 3 rows\n",
      "\n"
     ]
    }
   ],
   "source": [
    "ip_profile_sdf = spark.read.json(data_path).persist()\n",
    "ip_profile_sdf.show(3)"
   ]
  },
  {
   "cell_type": "markdown",
   "metadata": {},
   "source": [
    "### Load the Clustering Pipelinemodel"
   ]
  },
  {
   "cell_type": "code",
   "execution_count": 5,
   "metadata": {},
   "outputs": [],
   "source": [
    "model_path = PROFILE_ANOMALY_MODEL_PATH.format(data_source=data_source,\\\n",
    "                                  entity_type=entity_type,anomaly_type=anomaly_type,time_window=time_window,\\\n",
    "                                 model_type=model_type,model_name=model_name)"
   ]
  },
  {
   "cell_type": "code",
   "execution_count": 6,
   "metadata": {},
   "outputs": [],
   "source": [
    "\n",
    "clustering_pipeline_model = PipelineModel.load(model_path+\"/clustering_pipeline_model\")\n"
   ]
  },
  {
   "cell_type": "markdown",
   "metadata": {},
   "source": [
    "### Load the Scoring Pipelinemodel"
   ]
  },
  {
   "cell_type": "code",
   "execution_count": 7,
   "metadata": {},
   "outputs": [],
   "source": [
    "scoring_pipeline_model = PipelineModel.load(model_path+\"/scoring_pipeline_model\")\n"
   ]
  },
  {
   "cell_type": "markdown",
   "metadata": {},
   "source": [
    "### calculate sum of euclidean distance"
   ]
  },
  {
   "cell_type": "code",
   "execution_count": 8,
   "metadata": {},
   "outputs": [],
   "source": [
    "def calculate_SED_from_all_centroids(value,centroids):\n",
    "    single_point = value\n",
    "    points = centroids\n",
    "\n",
    "    dist = (points - single_point)**2\n",
    "    dist = np.sum(dist, axis=1)\n",
    "    dist = np.sqrt(dist)\n",
    "    dist = np.sum(dist)\n",
    "    return float(dist)\n",
    "\n",
    "def udf_calculate_SED(centroid_list):\n",
    "    return udf(lambda l: calculate_SED_from_all_centroids(l, centroid_list),FloatType())\n"
   ]
  },
  {
   "cell_type": "markdown",
   "metadata": {},
   "source": [
    "### Calculate scaled sed on a scale ( 0 - 1 )"
   ]
  },
  {
   "cell_type": "code",
   "execution_count": 9,
   "metadata": {},
   "outputs": [
    {
     "name": "stdout",
     "output_type": "stream",
     "text": [
      "+---------------+-----------------+----------------+-----------+---------------------+-----------------------+----------------------+---------------------+--------------------+--------------+--------------------+--------------------+----------+--------+-------------------+--------------------+\n",
      "|dns_error_count|increase_activity|lateral_movement|     src_ip|upload_download_ratio|increase_activity_index|lateral_movement_index|increase_activity_vec|lateral_movement_vec|  features_vec|         features_zs|            features|cluster_id|     sed|            sed_vec|          scaled_sed|\n",
      "+---------------+-----------------+----------------+-----------+---------------------+-----------------------+----------------------+---------------------+--------------------+--------------+--------------------+--------------------+----------+--------+-------------------+--------------------+\n",
      "|           1426|            False|            True|  54.85.1.3|                  619|                    0.0|                   0.0|        (1,[0],[1.0])|       (1,[0],[1.0])|[619.0,1426.0]|[-0.9821795807138...|[1.0,1.0,-0.98217...|         1|9.473489|[9.473488807678223]|[0.39056088332091...|\n",
      "|           1446|             True|            True| 54.85.5.15|                  655|                    1.0|                   0.0|            (1,[],[])|       (1,[0],[1.0])|[655.0,1446.0]|[-0.8417355925993...|[0.0,1.0,-0.84173...|         1|9.373591|[9.373591423034668]|[0.3819584413771298]|\n",
      "|           1441|             True|            True|54.85.10.16|                  614|                    1.0|                   0.0|            (1,[],[])|       (1,[0],[1.0])|[614.0,1441.0]|[-1.0016856901741...|[0.0,1.0,-1.00168...|         1|9.629855|[9.629855155944824]|[0.4040260249532409]|\n",
      "+---------------+-----------------+----------------+-----------+---------------------+-----------------------+----------------------+---------------------+--------------------+--------------+--------------------+--------------------+----------+--------+-------------------+--------------------+\n",
      "only showing top 3 rows\n",
      "\n"
     ]
    }
   ],
   "source": [
    "result_cluster_sdf = clustering_pipeline_model.transform(ip_profile_sdf)\n",
    "centroids = np.array(clustering_pipeline_model.stages[-1].clusterCenters())\n",
    "result_sed_sdf = result_cluster_sdf.withColumn(\"sed\", udf_calculate_SED(centroids)(col(\"features\")))\n",
    "result_scaler_sdf = scoring_pipeline_model.transform(result_sed_sdf).persist()\n",
    "result_scaler_sdf.show(3)"
   ]
  },
  {
   "cell_type": "markdown",
   "metadata": {},
   "source": [
    "### Anomaly Score on a scale ( 0 - 100 )"
   ]
  },
  {
   "cell_type": "code",
   "execution_count": 10,
   "metadata": {},
   "outputs": [
    {
     "name": "stdout",
     "output_type": "stream",
     "text": [
      "+---------------+-----------------+----------------+-----------+---------------------+-----------------------+----------------------+---------------------+--------------------+--------------+--------------------+--------------------+----------+--------+-------------------+--------------------+---------+\n",
      "|dns_error_count|increase_activity|lateral_movement|     src_ip|upload_download_ratio|increase_activity_index|lateral_movement_index|increase_activity_vec|lateral_movement_vec|  features_vec|         features_zs|            features|cluster_id|     sed|            sed_vec|          scaled_sed|      PAS|\n",
      "+---------------+-----------------+----------------+-----------+---------------------+-----------------------+----------------------+---------------------+--------------------+--------------+--------------------+--------------------+----------+--------+-------------------+--------------------+---------+\n",
      "|           1426|            False|            True|  54.85.1.3|                  619|                    0.0|                   0.0|        (1,[0],[1.0])|       (1,[0],[1.0])|[619.0,1426.0]|[-0.9821795807138...|[1.0,1.0,-0.98217...|         1|9.473489|[9.473488807678223]|[0.39056088332091...|39.056087|\n",
      "|           1446|             True|            True| 54.85.5.15|                  655|                    1.0|                   0.0|            (1,[],[])|       (1,[0],[1.0])|[655.0,1446.0]|[-0.8417355925993...|[0.0,1.0,-0.84173...|         1|9.373591|[9.373591423034668]|[0.3819584413771298]|38.195843|\n",
      "|           1441|             True|            True|54.85.10.16|                  614|                    1.0|                   0.0|            (1,[],[])|       (1,[0],[1.0])|[614.0,1441.0]|[-1.0016856901741...|[0.0,1.0,-1.00168...|         1|9.629855|[9.629855155944824]|[0.4040260249532409]|40.402603|\n",
      "+---------------+-----------------+----------------+-----------+---------------------+-----------------------+----------------------+---------------------+--------------------+--------------+--------------------+--------------------+----------+--------+-------------------+--------------------+---------+\n",
      "only showing top 3 rows\n",
      "\n"
     ]
    }
   ],
   "source": [
    "def format_anomaly_score(value):\n",
    "    val = float(value[0])*100\n",
    "    if val > 100:\n",
    "        return 100.0\n",
    "    if val < 0:\n",
    "        return 0.0\n",
    "    return val\n",
    "\n",
    "udf_format_anomaly_score = udf(format_anomaly_score,FloatType())\n",
    "result_score_sdf = result_scaler_sdf.withColumn(\"PAS\", udf_format_anomaly_score(\"scaled_sed\"))\n",
    "result_score_sdf.show(3)"
   ]
  },
  {
   "cell_type": "markdown",
   "metadata": {},
   "source": [
    "## stats for PAS"
   ]
  },
  {
   "cell_type": "code",
   "execution_count": 11,
   "metadata": {},
   "outputs": [
    {
     "name": "stdout",
     "output_type": "stream",
     "text": [
      "+-------+------------------+\n",
      "|summary|               PAS|\n",
      "+-------+------------------+\n",
      "|  count|              1059|\n",
      "|   mean|22.204587301640395|\n",
      "| stddev|18.173341245516998|\n",
      "|    min|               0.0|\n",
      "|    max|             100.0|\n",
      "+-------+------------------+\n",
      "\n"
     ]
    }
   ],
   "source": [
    "result_score_sdf.select(\"PAS\").describe().show()"
   ]
  },
  {
   "cell_type": "markdown",
   "metadata": {},
   "source": [
    "# get binary response as normal/anomaly"
   ]
  },
  {
   "cell_type": "code",
   "execution_count": 12,
   "metadata": {},
   "outputs": [
    {
     "name": "stdout",
     "output_type": "stream",
     "text": [
      "+---------------+-----------------+----------------+-----------+---------------------+-----------------------+----------------------+---------------------+--------------------+--------------+--------------------+--------------------+----------+--------+-------------------+--------------------+---------+-------+\n",
      "|dns_error_count|increase_activity|lateral_movement|     src_ip|upload_download_ratio|increase_activity_index|lateral_movement_index|increase_activity_vec|lateral_movement_vec|  features_vec|         features_zs|            features|cluster_id|     sed|            sed_vec|          scaled_sed|      PAS|anomaly|\n",
      "+---------------+-----------------+----------------+-----------+---------------------+-----------------------+----------------------+---------------------+--------------------+--------------+--------------------+--------------------+----------+--------+-------------------+--------------------+---------+-------+\n",
      "|           1426|            False|            True|  54.85.1.3|                  619|                    0.0|                   0.0|        (1,[0],[1.0])|       (1,[0],[1.0])|[619.0,1426.0]|[-0.9821795807138...|[1.0,1.0,-0.98217...|         1|9.473489|[9.473488807678223]|[0.39056088332091...|39.056087|      0|\n",
      "|           1446|             True|            True| 54.85.5.15|                  655|                    1.0|                   0.0|            (1,[],[])|       (1,[0],[1.0])|[655.0,1446.0]|[-0.8417355925993...|[0.0,1.0,-0.84173...|         1|9.373591|[9.373591423034668]|[0.3819584413771298]|38.195843|      0|\n",
      "|           1441|             True|            True|54.85.10.16|                  614|                    1.0|                   0.0|            (1,[],[])|       (1,[0],[1.0])|[614.0,1441.0]|[-1.0016856901741...|[0.0,1.0,-1.00168...|         1|9.629855|[9.629855155944824]|[0.4040260249532409]|40.402603|      0|\n",
      "|           1421|            False|            True|54.85.20.40|                  615|                    0.0|                   0.0|        (1,[0],[1.0])|       (1,[0],[1.0])|[615.0,1421.0]|[-0.9977844682821...|[1.0,1.0,-0.99778...|         1|9.467597|[9.467597007751465]|[0.3900535240242182]|39.005352|      0|\n",
      "+---------------+-----------------+----------------+-----------+---------------------+-----------------------+----------------------+---------------------+--------------------+--------------+--------------------+--------------------+----------+--------+-------------------+--------------------+---------+-------+\n",
      "only showing top 4 rows\n",
      "\n"
     ]
    }
   ],
   "source": [
    "def is_anomaly(value):\n",
    "    if value > 60:\n",
    "        return 1\n",
    "    else:\n",
    "        return 0\n",
    "udf_is_anomaly = udf(is_anomaly,IntegerType())\n",
    "result_score_sdf = result_score_sdf.withColumn(\"anomaly\", udf_is_anomaly(\"PAS\"))\n",
    "result_score_sdf.show(4)"
   ]
  },
  {
   "cell_type": "markdown",
   "metadata": {},
   "source": [
    "# get the normal records"
   ]
  },
  {
   "cell_type": "code",
   "execution_count": 13,
   "metadata": {},
   "outputs": [
    {
     "name": "stdout",
     "output_type": "stream",
     "text": [
      "+-------+\n",
      "|anomaly|\n",
      "+-------+\n",
      "|      0|\n",
      "+-------+\n",
      "\n",
      "normal record count 1048\n"
     ]
    }
   ],
   "source": [
    "normal_sdf = result_score_sdf.where(result_score_sdf['anomaly'] == 0)\n",
    "normal_sdf.select(\"anomaly\").distinct().show()\n",
    "print(\"normal record count {count}\".format(count=normal_sdf.count()))"
   ]
  },
  {
   "cell_type": "markdown",
   "metadata": {},
   "source": [
    "# get the anomaly records"
   ]
  },
  {
   "cell_type": "code",
   "execution_count": 14,
   "metadata": {},
   "outputs": [
    {
     "name": "stdout",
     "output_type": "stream",
     "text": [
      "+-------+\n",
      "|anomaly|\n",
      "+-------+\n",
      "|      1|\n",
      "+-------+\n",
      "\n",
      "anomaly record count 11\n"
     ]
    }
   ],
   "source": [
    "anomaly_sdf = result_score_sdf.where(result_score_sdf['anomaly'] == 1)\n",
    "anomaly_sdf.select(\"anomaly\").distinct().show()\n",
    "print(\"anomaly record count {count}\".format(count=anomaly_sdf.count()))"
   ]
  }
 ],
 "metadata": {
  "kernelspec": {
   "display_name": "sstech-models-v3",
   "language": "python",
   "name": "sstech-models-v3"
  },
  "language_info": {
   "codemirror_mode": {
    "name": "ipython",
    "version": 3
   },
   "file_extension": ".py",
   "mimetype": "text/x-python",
   "name": "python",
   "nbconvert_exporter": "python",
   "pygments_lexer": "ipython3",
   "version": "3.6.5"
  }
 },
 "nbformat": 4,
 "nbformat_minor": 2
}
