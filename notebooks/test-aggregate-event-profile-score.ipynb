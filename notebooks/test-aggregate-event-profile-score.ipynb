{
 "cells": [
  {
   "cell_type": "code",
   "execution_count": 1,
   "metadata": {},
   "outputs": [],
   "source": [
    "from pyspark.sql import SparkSession\n",
    "\n",
    "from pyspark.sql.functions import udf, col,mean\n",
    "from pyspark.sql.types import *\n",
    "import numpy as np\n",
    "from sklearn.datasets import make_moons, make_blobs\n",
    "import pandas as pd\n",
    "\n"
   ]
  },
  {
   "cell_type": "code",
   "execution_count": 2,
   "metadata": {},
   "outputs": [],
   "source": [
    "spark = SparkSession.builder.appName('test-aggregate-event-profile-score').getOrCreate()\n",
    "sc = spark.sparkContext\n",
    "sc.setLogLevel(\"ERROR\")"
   ]
  },
  {
   "cell_type": "code",
   "execution_count": 3,
   "metadata": {},
   "outputs": [],
   "source": [
    "event_alert_score_sdf = spark.read.json(\"/Users/tuhinsharma/Documents/sstech/demo/hive_data/wgtraffic_event_alert_score.json\").persist()\n",
    "profile_score_sdf = spark.read.json(\"/Users/tuhinsharma/Documents/sstech/demo/hive_data/wgtraffic_profile_score.json\").persist()\n"
   ]
  },
  {
   "cell_type": "code",
   "execution_count": 4,
   "metadata": {},
   "outputs": [
    {
     "name": "stdout",
     "output_type": "stream",
     "text": [
      "+-----------+------+---+-------------+-----------+--------------------+---+--------------+-------------+--------------------+----+\n",
      "|alert_score|alerts|  d|  entity_name|event_score|                guid|  m|   source_type|    timestamp|           user_name|   y|\n",
      "+-----------+------+---+-------------+-----------+--------------------+---+--------------+-------------+--------------------+----+\n",
      "|        0.0|      | 25|192.168.0.111|      100.0|d679d707-1bb8-407...|  4|demo_wgtraffic|1556206508000|madison.prince@ss...|2019|\n",
      "|        0.0|      | 25| 192.168.0.86|      100.0|cf7770b3-26d2-462...|  4|demo_wgtraffic|1556206349000|flash.hunt@sstech.us|2019|\n",
      "+-----------+------+---+-------------+-----------+--------------------+---+--------------+-------------+--------------------+----+\n",
      "only showing top 2 rows\n",
      "\n"
     ]
    }
   ],
   "source": [
    "event_alert_score_sdf.show(2)"
   ]
  },
  {
   "cell_type": "code",
   "execution_count": 5,
   "metadata": {},
   "outputs": [
    {
     "name": "stdout",
     "output_type": "stream",
     "text": [
      "+------------------+------------------+-------------------+------------------+------------+-----------+----------------+----+\n",
      "|     PAS_isolation|        PAS_kmeans|            PAS_svm|     PAS_wgtraffic|        name|time_window|       timestamp|type|\n",
      "+------------------+------------------+-------------------+------------------+------------+-----------+----------------+----+\n",
      "|  31.7455293399957|               0.0|0.03216223111822964|10.592563857037975| 192.168.0.1|       hour|1556226097561538|  ip|\n",
      "|28.636263100254496|1.0236024856567383|0.04569207506500132| 9.901852553658745|192.168.0.14|       hour|1556226097561538|  ip|\n",
      "+------------------+------------------+-------------------+------------------+------------+-----------+----------------+----+\n",
      "only showing top 2 rows\n",
      "\n"
     ]
    }
   ],
   "source": [
    "profile_score_sdf.show(2)"
   ]
  },
  {
   "cell_type": "code",
   "execution_count": 6,
   "metadata": {},
   "outputs": [],
   "source": [
    "TIME_WINDOW_LIST = [\"hour\", \"day\", \"week\"]\n",
    "USER_ENTITY_TYPE = \"user\"\n",
    "IP_ENTITY_TYPE = \"ip\"\n",
    "dic = {\"hour\":60*60*1000000,\"day\":24*60*60*1000000,\"week\":7*24*60*60*1000000}"
   ]
  },
  {
   "cell_type": "code",
   "execution_count": 7,
   "metadata": {},
   "outputs": [],
   "source": [
    "def calculate_final_anomaly_score(profile_sdf,event_sdf,time_window,actor_type):\n",
    "    profile_sdf.createOrReplaceTempView(\"profile_sdf\")\n",
    "    event_sdf.createOrReplaceTempView(\"event_sdf\")\n",
    "    timestamp_sdf = spark.sql(\"select min(timestamp) as timestamp from profile_sdf where time_window='\"+time_window+\"' and type='\"+actor_type+\"'\")\n",
    "    timestamp = timestamp_sdf.rdd.map(lambda x:x[\"timestamp\"]).collect()[0]\n",
    "    start_timestamp = str(int((timestamp - dic[time_window])/1000))\n",
    "    end_timestamp = str(int(timestamp/1000))\n",
    "    profile_type_time_window_sdf = spark.sql(\"select type ,timestamp, name , time_window , PAS_wgtraffic from profile_sdf where time_window='\"+time_window+\"' and type='\"+actor_type+\"' and timestamp=\"+str(timestamp))\n",
    "    profile_type_time_window_sdf.show(2)\n",
    "    print(profile_type_time_window_sdf.count())\n",
    "    profile_type_time_window_sdf.select(\"time_window\").distinct().show()\n",
    "\n",
    "    event_time_window_sdf = spark.sql(\"select timestamp,entity_name ,user_name,event_score from event_sdf where timestamp > \"+start_timestamp+\" and timestamp < \"+end_timestamp)\n",
    "    event_time_window_sdf.createOrReplaceTempView(\"event_time_window_sdf\")\n",
    "    if actor_type == IP_ENTITY_TYPE:\n",
    "        event_type_time_window_sdf = spark.sql(\"select entity_name as name,mean(event_score) as EAS_wgtraffic from event_time_window_sdf group by entity_name\")\n",
    "    else:\n",
    "        event_type_time_window_sdf = spark.sql(\"select user_name as name,mean(event_score) as EAS_wgtraffic from event_time_window_sdf group by user_name\")\n",
    "\n",
    "\n",
    "    event_type_time_window_sdf.show(3)\n",
    "    print(event_type_time_window_sdf.count())\n",
    "    \n",
    "    joined_sdf = profile_type_time_window_sdf.join(event_type_time_window_sdf,on=\"name\",how=\"left_outer\")\n",
    "    joined_sdf = joined_sdf.fillna(0)\n",
    "    joined_sdf.show(4)\n",
    "\n",
    "\n",
    "    \n",
    "    from pyspark.sql.functions import udf, array\n",
    "    from pyspark.sql.types import DoubleType\n",
    "\n",
    "    avg_cols = udf(lambda array: sum(array)/len(array), FloatType())\n",
    "\n",
    "    result_sdf = joined_sdf.withColumn(\"AS_wgtraffic\", avg_cols(array(\"PAS_wgtraffic\", \"EAS_wgtraffic\")))\n",
    "    result_sdf.show(10)\n",
    "    print(result_sdf.count())\n",
    "    return result_sdf\n",
    "\n",
    "    "
   ]
  },
  {
   "cell_type": "code",
   "execution_count": 8,
   "metadata": {
    "scrolled": false
   },
   "outputs": [
    {
     "name": "stdout",
     "output_type": "stream",
     "text": [
      "+----+----------------+--------------------+-----------+------------------+\n",
      "|type|       timestamp|                name|time_window|     PAS_wgtraffic|\n",
      "+----+----------------+--------------------+-----------+------------------+\n",
      "|user|1556226350347841|camille.gordon@ss...|       week|0.5694417203772256|\n",
      "|user|1556226350347841|james.prince@sste...|       week| 4.857787961136455|\n",
      "+----+----------------+--------------------+-----------+------------------+\n",
      "only showing top 2 rows\n",
      "\n",
      "117\n",
      "+-----------+\n",
      "|time_window|\n",
      "+-----------+\n",
      "|       week|\n",
      "+-----------+\n",
      "\n",
      "+--------------------+-----------------+\n",
      "|                name|    EAS_wgtraffic|\n",
      "+--------------------+-----------------+\n",
      "|madison.cook@sste...|98.89325924555384|\n",
      "|clark.kent@sstech.us|            100.0|\n",
      "|JohnWhiteLateralM...|99.47813015769046|\n",
      "+--------------------+-----------------+\n",
      "only showing top 3 rows\n",
      "\n",
      "114\n",
      "+--------------------+----+----------------+-----------+------------------+-----------------+\n",
      "|                name|type|       timestamp|time_window|     PAS_wgtraffic|    EAS_wgtraffic|\n",
      "+--------------------+----+----------------+-----------+------------------+-----------------+\n",
      "|camille.gordon@ss...|user|1556226350347841|       week|0.5694417203772256|            100.0|\n",
      "|james.prince@sste...|user|1556226350347841|       week| 4.857787961136455|99.49694278051665|\n",
      "|ethan.cook@sstech...|user|1556226350347841|       week|10.782322557937784|              0.0|\n",
      "|daniel.cook@sstec...|user|1556226350347841|       week| 6.677510320293454|            100.0|\n",
      "+--------------------+----+----------------+-----------+------------------+-----------------+\n",
      "only showing top 4 rows\n",
      "\n",
      "+--------------------+----+----------------+-----------+------------------+-----------------+------------+\n",
      "|                name|type|       timestamp|time_window|     PAS_wgtraffic|    EAS_wgtraffic|AS_wgtraffic|\n",
      "+--------------------+----+----------------+-----------+------------------+-----------------+------------+\n",
      "|camille.gordon@ss...|user|1556226350347841|       week|0.5694417203772256|            100.0|    50.28472|\n",
      "|james.prince@sste...|user|1556226350347841|       week| 4.857787961136455|99.49694278051665|   52.177364|\n",
      "|ethan.cook@sstech...|user|1556226350347841|       week|10.782322557937784|              0.0|   5.3911614|\n",
      "|daniel.cook@sstec...|user|1556226350347841|       week| 6.677510320293454|            100.0|   53.338757|\n",
      "|madison.hunt@sste...|user|1556226350347841|       week|  5.56893221832697|99.24068762379308|   52.404808|\n",
      "|JohnWhite200@sste...|user|1556226350347841|       week|0.5691054795205804|98.85266501860232|   49.710884|\n",
      "|james.smith@sstec...|user|1556226350347841|       week|7.2652410294221035|99.64101928354071|    53.45313|\n",
      "|daniel.gold@sstec...|user|1556226350347841|       week| 1.178592313384691|            100.0|   50.589294|\n",
      "|ethan.prince@sste...|user|1556226350347841|       week|1.1955795625698975| 99.3260036211197|    50.26079|\n",
      "|madison.smith@sst...|user|1556226350347841|       week|2.3077279934198884|            100.0|   51.153866|\n",
      "+--------------------+----+----------------+-----------+------------------+-----------------+------------+\n",
      "only showing top 10 rows\n",
      "\n",
      "117\n"
     ]
    }
   ],
   "source": [
    "result_sdf = calculate_final_anomaly_score(profile_score_sdf,event_alert_score_sdf,\"week\",\"user\")"
   ]
  },
  {
   "cell_type": "code",
   "execution_count": null,
   "metadata": {},
   "outputs": [],
   "source": []
  }
 ],
 "metadata": {
  "kernelspec": {
   "display_name": "sstech-models-v3",
   "language": "python",
   "name": "sstech-models-v3"
  },
  "language_info": {
   "codemirror_mode": {
    "name": "ipython",
    "version": 3
   },
   "file_extension": ".py",
   "mimetype": "text/x-python",
   "name": "python",
   "nbconvert_exporter": "python",
   "pygments_lexer": "ipython3",
   "version": "3.6.5"
  }
 },
 "nbformat": 4,
 "nbformat_minor": 2
}
