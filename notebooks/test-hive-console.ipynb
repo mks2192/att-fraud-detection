{
 "cells": [
  {
   "cell_type": "markdown",
   "metadata": {},
   "source": [
    "# Create SparkSession"
   ]
  },
  {
   "cell_type": "code",
   "execution_count": 2,
   "metadata": {},
   "outputs": [],
   "source": [
    "from pyspark.sql import SQLContext, HiveContext,SparkSession\n",
    "\n"
   ]
  },
  {
   "cell_type": "code",
   "execution_count": 3,
   "metadata": {},
   "outputs": [
    {
     "data": {
      "text/plain": [
       "[Database(name='default', description='Default Hive database', locationUri='file:/user/hive/warehouse'),\n",
       " Database(name='demo', description='', locationUri='file:/user/hive/warehouse/demo.db')]"
      ]
     },
     "execution_count": 3,
     "metadata": {},
     "output_type": "execute_result"
    }
   ],
   "source": [
    "spark = SparkSession\\\n",
    ".builder\\\n",
    ".appName(\"test-hive-console\")\\\n",
    ".master(\"local[*]\")\\\n",
    ".config(\"spark.sql.warehouse.dir\", \"/user/hive/warehouse\")\\\n",
    ".enableHiveSupport()\\\n",
    ".getOrCreate()"
   ]
  },
  {
   "cell_type": "markdown",
   "metadata": {},
   "source": [
    "# show databases"
   ]
  },
  {
   "cell_type": "code",
   "execution_count": 4,
   "metadata": {},
   "outputs": [
    {
     "data": {
      "text/plain": [
       "[Database(name='default', description='Default Hive database', locationUri='file:/user/hive/warehouse'),\n",
       " Database(name='demo', description='', locationUri='file:/user/hive/warehouse/demo.db')]"
      ]
     },
     "execution_count": 4,
     "metadata": {},
     "output_type": "execute_result"
    }
   ],
   "source": [
    "spark.catalog.listDatabases()"
   ]
  },
  {
   "cell_type": "markdown",
   "metadata": {},
   "source": [
    "# show tables"
   ]
  },
  {
   "cell_type": "code",
   "execution_count": 4,
   "metadata": {},
   "outputs": [
    {
     "name": "stdout",
     "output_type": "stream",
     "text": [
      "+--------+--------------------+-----------+\n",
      "|database|           tableName|isTemporary|\n",
      "+--------+--------------------+-----------+\n",
      "|    demo|           wgtraffic|      false|\n",
      "|    demo|wgtraffic_event_a...|      false|\n",
      "+--------+--------------------+-----------+\n",
      "\n"
     ]
    }
   ],
   "source": [
    "database = \"demo\"\n",
    "spark.sql(\"use \"+database)\n",
    "spark.sql(\"show tables\").show()"
   ]
  },
  {
   "cell_type": "markdown",
   "metadata": {},
   "source": [
    "# write to local filesystem from hive table"
   ]
  },
  {
   "cell_type": "code",
   "execution_count": 5,
   "metadata": {},
   "outputs": [],
   "source": [
    "database = \"demo\"\n",
    "table = \"wgtraffic\"\n",
    "sdf = spark.sql(\"select * from \"+database+\".\"+table)\n",
    "sdf.repartition(1).write.json(\"/tmp/data.json\",\"overwrite\")"
   ]
  },
  {
   "cell_type": "markdown",
   "metadata": {},
   "source": [
    "# create table in database"
   ]
  },
  {
   "cell_type": "code",
   "execution_count": null,
   "metadata": {},
   "outputs": [],
   "source": [
    "database = \"demo\"\n",
    "spark.sql(\"create database if not exists \"+database)\n",
    "spark.sql(\"use \"+database)\n",
    "spark.sql(\"DROP TABLE IF EXISTS \" + database + \".sample_tuhin\")\n",
    "spark.sql(\"CREATE TABLE IF NOT EXISTS \" + database + \".guardduty_score (account_id STRING,service_count INT,severity INT, ipv4 STRING, created_at STRING, username STRING, pre_score DOUBLE,score DOUBLE)\") \n"
   ]
  },
  {
   "cell_type": "code",
   "execution_count": null,
   "metadata": {},
   "outputs": [],
   "source": [
    "# from pyspark.sql.types import StringType\n",
    "\n",
    "# x = spark.createDataFrame([\"10\",\"11\",\"13\"], StringType()).toDF(\"age\")\n",
    "# # x.saveAsTable('x_temp', mode='overwrite')\n",
    "# x.write.mode(\"append\").saveAsTable(\"haha.age_data\")\n",
    "# spark.sql(\"select * from haha.age_data\").show()"
   ]
  },
  {
   "cell_type": "markdown",
   "metadata": {},
   "source": [
    "# write to HIVE table from json data"
   ]
  },
  {
   "cell_type": "code",
   "execution_count": 5,
   "metadata": {},
   "outputs": [],
   "source": [
    "database = \"demo\"\n",
    "spark.sql(\"create database if not exists \"+database)\n",
    "table = \"wgtraffic\"\n",
    "json_path = \"/Users/tuhinsharma/Documents/sstech/demo/hive_data/demo_wgtraffic.json\"\n",
    "spark.sql(\"DROP TABLE IF EXISTS \" + database + \".\"+table)\n",
    "sdf = spark.read.json(json_path)\n",
    "sdf.write.mode(\"overwrite\").saveAsTable(database+\".\"+table)\n"
   ]
  },
  {
   "cell_type": "code",
   "execution_count": 6,
   "metadata": {},
   "outputs": [
    {
     "name": "stdout",
     "output_type": "stream",
     "text": [
      "root\n",
      " |-- alarm_id: string (nullable = true)\n",
      " |-- alarm_name: string (nullable = true)\n",
      " |-- alarm_type: string (nullable = true)\n",
      " |-- bucket: string (nullable = true)\n",
      " |-- cluster: string (nullable = true)\n",
      " |-- d: long (nullable = true)\n",
      " |-- direction: string (nullable = true)\n",
      " |-- disp: string (nullable = true)\n",
      " |-- dst_intf: string (nullable = true)\n",
      " |-- dst_ip: string (nullable = true)\n",
      " |-- dst_port: string (nullable = true)\n",
      " |-- dst_port_nat: string (nullable = true)\n",
      " |-- event_time: string (nullable = true)\n",
      " |-- info_1: string (nullable = true)\n",
      " |-- info_2: string (nullable = true)\n",
      " |-- info_3: string (nullable = true)\n",
      " |-- info_4: string (nullable = true)\n",
      " |-- info_5: string (nullable = true)\n",
      " |-- info_6: string (nullable = true)\n",
      " |-- log_type: string (nullable = true)\n",
      " |-- m: long (nullable = true)\n",
      " |-- msg: string (nullable = true)\n",
      " |-- original_string: string (nullable = true)\n",
      " |-- pckt_len: string (nullable = true)\n",
      " |-- policy: string (nullable = true)\n",
      " |-- pr_info: string (nullable = true)\n",
      " |-- pri: string (nullable = true)\n",
      " |-- processing_dttm: string (nullable = true)\n",
      " |-- protocol: string (nullable = true)\n",
      " |-- proxy_act: string (nullable = true)\n",
      " |-- raw_id: string (nullable = true)\n",
      " |-- rc: string (nullable = true)\n",
      " |-- sid: string (nullable = true)\n",
      " |-- sn: string (nullable = true)\n",
      " |-- src_intf: string (nullable = true)\n",
      " |-- src_ip: string (nullable = true)\n",
      " |-- src_port: string (nullable = true)\n",
      " |-- src_port_nat: string (nullable = true)\n",
      " |-- tag_id: string (nullable = true)\n",
      " |-- timestamp: long (nullable = true)\n",
      " |-- ttl: string (nullable = true)\n",
      " |-- unknown_field: string (nullable = true)\n",
      " |-- y: long (nullable = true)\n",
      "\n"
     ]
    }
   ],
   "source": [
    "sdf.printSchema()"
   ]
  },
  {
   "cell_type": "markdown",
   "metadata": {},
   "source": [
    "# show table content"
   ]
  },
  {
   "cell_type": "code",
   "execution_count": 15,
   "metadata": {
    "scrolled": true
   },
   "outputs": [
    {
     "name": "stdout",
     "output_type": "stream",
     "text": [
      "+---------------+--------+------------+--------------------+--------------------+----------------+--------------------+--------------------+-------------------+----------------+--------+---+------------+--------------------+--------+--------------------+-------+---+---------------+--------+--------------------+-------+---+----------+-------------+----------+-------------+--------+------------+------+-------------+---+-------------+----+\n",
      "|         dst_ip|dst_port|dst_port_nat|          event_time|              info_1|          info_2|              info_3|              info_4|             info_5|          info_6|log_type|  m|         msg|     original_string|pckt_len|              policy|pr_info|pri|processing_dttm|protocol|           proxy_act| raw_id| rc|       sid|           sn|  src_intf|       src_ip|src_port|src_port_nat|tag_id|    timestamp|ttl|unknown_field|   y|\n",
      "+---------------+--------+------------+--------------------+--------------------+----------------+--------------------+--------------------+-------------------+----------------+--------+---+------------+--------------------+--------+--------------------+-------+---+---------------+--------+--------------------+-------+---+----------+-------------+----------+-------------+--------+------------+------+-------------+---+-------------+----+\n",
      "| 70.169.165.199|     443|           0|2018-06-12T07:40:...|rcvd_bytes=18659;...| sent_bytes=7947|src_user=flash.go...|elapsed_time=0.11...|  dstname=test9.com|   arg=/index.pl|      tr|  6|HTTP request|1562130647,\"\",80B...|       0|HTTP-proxy.SSTECH...|       |  6|  1548783388169|http/tcp|HTTP-Client.SSTEC...|8354128|525|1562130647|80BE07AB597B2|1-MAIN LAN| 192.168.0.84|   56098|           0|  1007|1528803612000|  0|             |2018|\n",
      "|  94.244.22.168|     443|           0|2018-06-12T07:40:...|rcvd_bytes=127098...|sent_bytes=10897|src_user=madison....|elapsed_time=0.11...|dstname=test14.info|arg=/page40.json|      tr|  6|HTTP request|1562130647,\"\",80B...|       0|HTTP-proxy.SSTECH...|       |  6|  1548783388169|http/tcp|HTTP-Client.SSTEC...|8354128|525|1562130647|80BE07AB597B2|1-MAIN LAN|192.168.0.109|   23554|           0|  1007|1528803613000|  0|             |2018|\n",
      "|192.206.151.131|     443|           0|2018-06-12T07:40:...|rcvd_bytes=75672;...|sent_bytes=16704|src_user=camille....|elapsed_time=0.11...| dstname=test20.biz|   arg=/test.doc|      tr|  6|HTTP request|1562130647,\"\",80B...|       0|HTTP-proxy.SSTECH...|       |  6|  1548783388169|http/tcp|HTTP-Client.SSTEC...|8354128|525|1562130647|80BE07AB597B2|1-MAIN LAN| 192.168.0.22|   28491|           0|  1007|1528803614000|  0|             |2018|\n",
      "|  216.58.194.68|     443|           0|2018-06-12T07:40:...|rcvd_bytes=104655...|sent_bytes=15514|src_user=bruce.go...|elapsed_time=0.11...| dstname=test10.org|    arg=/info.rb|      tr|  6|HTTP request|1562130647,\"\",80B...|       0|HTTP-proxy.SSTECH...|       |  6|  1548783388169|http/tcp|HTTP-Client.SSTEC...|8354128|525|1562130647|80BE07AB597B2|1-MAIN LAN|  192.168.0.8|   34440|           0|  1007|1528803616000|  0|             |2018|\n",
      "| 70.169.165.199|     443|           0|2018-06-12T07:40:...|rcvd_bytes=182397...|sent_bytes=10303|src_user=daniel.f...|elapsed_time=0.11...|  dstname=test4.org|   arg=/test.bmp|      tr|  6|HTTP request|1562130647,\"\",80B...|       0|HTTP-proxy.SSTECH...|       |  6|  1548783388169|http/tcp|HTTP-Client.SSTEC...|8354128|525|1562130647|80BE07AB597B2|1-MAIN LAN| 192.168.0.39|   25921|           0|  1007|1528803619000|  0|             |2018|\n",
      "|  71.100.103.69|     443|           0|2018-06-12T07:40:...|rcvd_bytes=31773;...|sent_bytes=14583|src_user=james.fi...|elapsed_time=0.11...|  dstname=test8.biz|  arg=/index.png|      tr|  6|HTTP request|1562130647,\"\",80B...|       0|HTTP-proxy.SSTECH...|       |  6|  1548783388169|http/tcp|HTTP-Client.SSTEC...|8354128|525|1562130647|80BE07AB597B2|1-MAIN LAN| 192.168.0.94|   12798|           0|  1007|1528803620000|  0|             |2018|\n",
      "|   17.178.96.59|      80|           0|2018-06-12T07:40:...|rcvd_bytes=72870;...|sent_bytes=12620|src_user=madison....|elapsed_time=0.11...| dstname=test20.net|  arg=/index.txt|      tr|  6|HTTP request|1562130647,\"\",80B...|       0|HTTP-proxy.SSTECH...|       |  6|  1548783388169|http/tcp|HTTP-Client.SSTEC...|8354128|525|1562130647|80BE07AB597B2|1-MAIN LAN|192.168.0.109|   44563|           0|  1007|1528803620000|  0|             |2018|\n",
      "|    192.168.0.2|     443|           0|2018-06-12T07:40:...|rcvd_bytes=66529;...|sent_bytes=15494|src_user=bruce.go...|elapsed_time=0.11...| dstname=test14.net|  arg=/info.jpeg|      tr|  6|HTTP request|1562130647,\"\",80B...|       0|HTTP-proxy.SSTECH...|       |  6|  1548783388169|http/tcp|HTTP-Client.SSTEC...|8354128|525|1562130647|80BE07AB597B2|1-MAIN LAN|  192.168.0.8|   58922|           0|  1007|1528803620000|  0|             |2018|\n",
      "|  71.100.103.69|     443|           0|2018-06-12T07:40:...|rcvd_bytes=165783...|sent_bytes=10483|src_user=ethan.co...|elapsed_time=0.11...|  dstname=test5.com| arg=/page41.txt|      tr|  6|HTTP request|1562130647,\"\",80B...|       0|HTTP-proxy.SSTECH...|       |  6|  1548783388169|http/tcp|HTTP-Client.SSTEC...|8354128|525|1562130647|80BE07AB597B2|1-MAIN LAN| 192.168.0.71|   55510|           0|  1007|1528803621000|  0|             |2018|\n",
      "|192.206.151.131|     443|           0|2018-06-12T07:40:...|rcvd_bytes=80581;...|sent_bytes=11405|src_user=bruce.go...|elapsed_time=0.11...| dstname=test19.com|  arg=/index.css|      tr|  6|HTTP request|1562130647,\"\",80B...|       0|HTTP-proxy.SSTECH...|       |  6|  1548783388169|http/tcp|HTTP-Client.SSTEC...|8354128|525|1562130647|80BE07AB597B2|1-MAIN LAN|  192.168.0.8|   44183|           0|  1007|1528803623000|  0|             |2018|\n",
      "|  71.100.103.69|     443|           0|2018-06-12T07:40:...|rcvd_bytes=77366;...| sent_bytes=5380|src_user=flash.go...|elapsed_time=0.11...|dstname=test18.info|   arg=/test.htm|      tr|  6|HTTP request|1562130647,\"\",80B...|       0|HTTP-proxy.SSTECH...|       |  6|  1548783388169|http/tcp|HTTP-Client.SSTEC...|8354128|525|1562130647|80BE07AB597B2|1-MAIN LAN| 192.168.0.84|   47548|           0|  1007|1528803625000|  0|             |2018|\n",
      "| 70.169.165.199|     443|           0|2018-06-12T07:40:...|rcvd_bytes=156933...|sent_bytes=11687|src_user=ethan.co...|elapsed_time=0.11...| dstname=test11.com|    arg=/testcsv|      tr|  6|HTTP request|1562130647,\"\",80B...|       0|HTTP-proxy.SSTECH...|       |  6|  1548783388169|http/tcp|HTTP-Client.SSTEC...|8354128|525|1562130647|80BE07AB597B2|1-MAIN LAN| 192.168.0.71|   46241|           0|  1007|1528803625000|  0|             |2018|\n",
      "|  192.168.0.249|     443|           0|2018-06-12T07:40:...|rcvd_bytes=72853;...| sent_bytes=9683|src_user=madison....|elapsed_time=0.11...| dstname=test13.org|   arg=/info.doc|      tr|  6|HTTP request|1562130647,\"\",80B...|       0|HTTP-proxy.SSTECH...|       |  6|  1548783388169|http/tcp|HTTP-Client.SSTEC...|8354128|525|1562130647|80BE07AB597B2|1-MAIN LAN|192.168.0.109|   12187|           0|  1007|1528803626000|  0|             |2018|\n",
      "| 70.169.165.199|     443|           0|2018-06-12T07:40:...|rcvd_bytes=69133;...| sent_bytes=7421|src_user=james.fi...|elapsed_time=0.11...| dstname=test14.org|  arg=/index.txt|      tr|  6|HTTP request|1562130647,\"\",80B...|       0|HTTP-proxy.SSTECH...|       |  6|  1548783388169|http/tcp|HTTP-Client.SSTEC...|8354128|525|1562130647|80BE07AB597B2|1-MAIN LAN| 192.168.0.94|   40575|           0|  1007|1528803628000|  0|             |2018|\n",
      "|   17.178.96.59|     443|           0|2018-06-12T07:40:...|rcvd_bytes=70935;...|sent_bytes=14549|src_user=bruce.go...|elapsed_time=0.11...| dstname=test8.info|  arg=/index.doc|      tr|  6|HTTP request|1562130647,\"\",80B...|       0|HTTP-proxy.SSTECH...|       |  6|  1548783388169|http/tcp|HTTP-Client.SSTEC...|8354128|525|1562130647|80BE07AB597B2|1-MAIN LAN|  192.168.0.8|   15577|           0|  1007|1528803628000|  0|             |2018|\n",
      "| 70.169.165.199|     443|           0|2018-06-12T07:40:...|rcvd_bytes=159361...| sent_bytes=8730|src_user=ethan.co...|elapsed_time=0.11...| dstname=test15.org| arg=/page40.jpg|      tr|  6|HTTP request|1562130647,\"\",80B...|       0|HTTP-proxy.SSTECH...|       |  6|  1548783388169|http/tcp|HTTP-Client.SSTEC...|8354128|525|1562130647|80BE07AB597B2|1-MAIN LAN| 192.168.0.71|   54692|           0|  1007|1528803630000|  0|             |2018|\n",
      "|  192.168.0.209|      80|           0|2018-06-12T07:40:...|rcvd_bytes=137495...| sent_bytes=9482|src_user=camille....|elapsed_time=0.11...| dstname=test14.com|   arg=/index.pl|      tr|  6|HTTP request|1562130647,\"\",80B...|       0|HTTP-proxy.SSTECH...|       |  6|  1548783388169|http/tcp|HTTP-Client.SSTEC...|8354128|525|1562130647|80BE07AB597B2|1-MAIN LAN| 192.168.0.22|   55742|           0|  1007|1528803632000|  0|             |2018|\n",
      "|  71.100.103.69|     443|           0|2018-06-12T07:40:...|rcvd_bytes=163002...| sent_bytes=4621|src_user=daniel.f...|elapsed_time=0.11...| dstname=test17.net|    arg=/info.rb|      tr|  6|HTTP request|1562130647,\"\",80B...|       0|HTTP-proxy.SSTECH...|       |  6|  1548783388169|http/tcp|HTTP-Client.SSTEC...|8354128|525|1562130647|80BE07AB597B2|1-MAIN LAN| 192.168.0.39|   51469|           0|  1007|1528803634000|  0|             |2018|\n",
      "|   192.168.0.33|      80|           0|2018-06-12T07:40:...|rcvd_bytes=129416...|sent_bytes=14723|src_user=camille....|elapsed_time=0.11...| dstname=test12.biz|   arg=/index.js|      tr|  6|HTTP request|1562130647,\"\",80B...|       0|HTTP-proxy.SSTECH...|       |  6|  1548783388169|http/tcp|HTTP-Client.SSTEC...|8354128|525|1562130647|80BE07AB597B2|1-MAIN LAN| 192.168.0.22|   25679|           0|  1007|1528803635000|  0|             |2018|\n",
      "|  192.168.0.101|     443|           0|2018-06-12T07:40:...|rcvd_bytes=145540...| sent_bytes=8175|src_user=bruce.go...|elapsed_time=0.11...| dstname=test11.net|   arg=/test.jpg|      tr|  6|HTTP request|1562130647,\"\",80B...|       0|HTTP-proxy.SSTECH...|       |  6|  1548783388169|http/tcp|HTTP-Client.SSTEC...|8354128|525|1562130647|80BE07AB597B2|1-MAIN LAN|  192.168.0.8|   35170|           0|  1007|1528803638000|  0|             |2018|\n",
      "+---------------+--------+------------+--------------------+--------------------+----------------+--------------------+--------------------+-------------------+----------------+--------+---+------------+--------------------+--------+--------------------+-------+---+---------------+--------+--------------------+-------+---+----------+-------------+----------+-------------+--------+------------+------+-------------+---+-------------+----+\n",
      "only showing top 20 rows\n",
      "\n"
     ]
    }
   ],
   "source": [
    "database = \"demo\"\n",
    "table = \"wgtraffic\"\n",
    "sdf = spark.sql(\"select * from \"+database+\".\"+table)\n",
    "sdf.show()"
   ]
  },
  {
   "cell_type": "code",
   "execution_count": 17,
   "metadata": {},
   "outputs": [
    {
     "name": "stdout",
     "output_type": "stream",
     "text": [
      "dst_ip,dst_port,dst_port_nat,event_time,info_1,info_2,info_3,info_4,info_5,info_6,log_type,m,msg,original_string,pckt_len,policy,pr_info,pri,processing_dttm,protocol,proxy_act,raw_id,rc,sid,sn,src_intf,src_ip,src_port,src_port_nat,tag_id,timestamp,ttl,unknown_field,y\n",
      "['dst_ip', 'dst_port', 'dst_port_nat', 'event_time', 'info_1', 'info_2', 'info_3', 'info_4', 'info_5', 'info_6', 'log_type', 'm', 'msg', 'original_string', 'pckt_len', 'policy', 'pr_info', 'pri', 'processing_dttm', 'protocol', 'proxy_act', 'raw_id', 'rc', 'sid', 'sn', 'src_intf', 'src_ip', 'src_port', 'src_port_nat', 'tag_id', 'timestamp', 'ttl', 'unknown_field', 'y']\n"
     ]
    }
   ],
   "source": [
    "print(\",\".join(sdf.columns[0:]))\n",
    "print(sdf.columns)"
   ]
  },
  {
   "cell_type": "code",
   "execution_count": 7,
   "metadata": {},
   "outputs": [
    {
     "name": "stdout",
     "output_type": "stream",
     "text": [
      "+-------+------+--------------------+-----+-------------+------+\n",
      "|summary|tag_id|           timestamp|  ttl|unknown_field|     y|\n",
      "+-------+------+--------------------+-----+-------------+------+\n",
      "|  count| 30000|               30000|30000|        30000| 30000|\n",
      "|   mean|1007.0|1.528798961635733...|  0.0|         null|2018.0|\n",
      "| stddev|   0.0|   7557885.973675217|  0.0|         null|   0.0|\n",
      "|    min|  1007|       1528783202000|    0|             |  2018|\n",
      "|    max|  1007|       1528807040000|    0|             |  2018|\n",
      "+-------+------+--------------------+-----+-------------+------+\n",
      "\n"
     ]
    }
   ],
   "source": [
    "sdf.select('tag_id', 'timestamp', 'ttl', 'unknown_field', 'y').describe().show()"
   ]
  },
  {
   "cell_type": "code",
   "execution_count": 9,
   "metadata": {},
   "outputs": [
    {
     "name": "stdout",
     "output_type": "stream",
     "text": [
      "+--------+----------------+--------------------+--------+\n",
      "|dst_port|          info_2|              info_1|src_port|\n",
      "+--------+----------------+--------------------+--------+\n",
      "|      80|sent_bytes=11357|rcvd_bytes=137046...|   53093|\n",
      "|     443|sent_bytes=18088|rcvd_bytes=50624;...|   31906|\n",
      "|      80| sent_bytes=8527|rcvd_bytes=145977...|   46977|\n",
      "|      80|sent_bytes=10523|rcvd_bytes=77019;...|   46704|\n",
      "|     443| sent_bytes=5596|rcvd_bytes=82784;...|   44093|\n",
      "|     443|sent_bytes=12011|rcvd_bytes=85192;...|   49852|\n",
      "|     443|sent_bytes=12191|rcvd_bytes=113427...|   55796|\n",
      "|     443|sent_bytes=15307|rcvd_bytes=127082...|   60972|\n",
      "|      80|sent_bytes=11849|rcvd_bytes=104144...|   49392|\n",
      "|     443|sent_bytes=10616|rcvd_bytes=67529;...|   14163|\n",
      "|      80| sent_bytes=8180|rcvd_bytes=131419...|   32583|\n",
      "|     443| sent_bytes=7565|rcvd_bytes=94448;...|   18043|\n",
      "|     443|sent_bytes=12371|rcvd_bytes=133546...|   36170|\n",
      "|     443|sent_bytes=14702|rcvd_bytes=153977...|   60333|\n",
      "|      80|sent_bytes=12549|rcvd_bytes=125143...|   42559|\n",
      "|     443| sent_bytes=7958|rcvd_bytes=112448...|   17222|\n",
      "|      80|sent_bytes=12792|rcvd_bytes=130782...|   60928|\n",
      "|     443|sent_bytes=15767|rcvd_bytes=86655;...|   54741|\n",
      "|      80|sent_bytes=15569|rcvd_bytes=55238;...|   15181|\n",
      "|      80|sent_bytes=14435|rcvd_bytes=97669;...|   33364|\n",
      "+--------+----------------+--------------------+--------+\n",
      "only showing top 20 rows\n",
      "\n"
     ]
    }
   ],
   "source": [
    "sdf.select(\"dst_port\", \"info_2\", \"info_1\", \"src_port\").show()"
   ]
  },
  {
   "cell_type": "code",
   "execution_count": null,
   "metadata": {},
   "outputs": [],
   "source": []
  }
 ],
 "metadata": {
  "kernelspec": {
   "display_name": "sstech-models-v3",
   "language": "python",
   "name": "sstech-models-v3"
  },
  "language_info": {
   "codemirror_mode": {
    "name": "ipython",
    "version": 3
   },
   "file_extension": ".py",
   "mimetype": "text/x-python",
   "name": "python",
   "nbconvert_exporter": "python",
   "pygments_lexer": "ipython3",
   "version": "3.6.5"
  }
 },
 "nbformat": 4,
 "nbformat_minor": 2
}
