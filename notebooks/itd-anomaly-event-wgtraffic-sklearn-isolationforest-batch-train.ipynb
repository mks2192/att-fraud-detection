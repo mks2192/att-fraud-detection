{
 "cells": [
  {
   "cell_type": "markdown",
   "metadata": {},
   "source": [
    "# call the libraries"
   ]
  },
  {
   "cell_type": "code",
   "execution_count": 1,
   "metadata": {},
   "outputs": [],
   "source": [
    "from pyspark.sql import SparkSession\n",
    "import matplotlib\n",
    "import matplotlib.pyplot as plt\n",
    "import numpy as np\n",
    "import io\n",
    "import numpy as np\n",
    "import os\n",
    "\n",
    "\n",
    "import scipy.stats as stats\n",
    "import numpy as np\n",
    "from sklearn.ensemble import IsolationForest\n",
    "import pandas as pd\n",
    "from sklearn.pipeline import Pipeline\n",
    "from sklearn.preprocessing import StandardScaler, MinMaxScaler,OneHotEncoder\n",
    "%matplotlib inline\n",
    "import pickle"
   ]
  },
  {
   "cell_type": "markdown",
   "metadata": {},
   "source": [
    "# initialize spark and spark context"
   ]
  },
  {
   "cell_type": "code",
   "execution_count": 2,
   "metadata": {},
   "outputs": [
    {
     "data": {
      "text/plain": [
       "'2.1.1'"
      ]
     },
     "execution_count": 2,
     "metadata": {},
     "output_type": "execute_result"
    }
   ],
   "source": [
    "spark = SparkSession\\\n",
    ".builder\\\n",
    ".appName(\"itd-anomaly-event-wgtraffic-sklearn-isolationforest-batch-train\")\\\n",
    ".master(\"local[*]\")\\\n",
    ".config(\"spark.sql.warehouse.dir\", \"/user/hive/warehouse\")\\\n",
    ".enableHiveSupport()\\\n",
    ".getOrCreate()\n",
    "sc = spark.sparkContext\n",
    "sc.version"
   ]
  },
  {
   "cell_type": "code",
   "execution_count": 3,
   "metadata": {},
   "outputs": [],
   "source": [
    "data_source = \"wgtraffic\"\n",
    "tenant_name = \"demo\"\n",
    "anomaly_type=\"event\"\n",
    "model_type=\"sklearn\"\n",
    "model_name=\"isolationforest\"\n",
    "\n",
    "BASE_PATH = \"/Users/tuhinsharma/Documents/sstech/\"+tenant_name\n",
    "ANOMALY_DATA_REPOSITORY = BASE_PATH + \"/models_data/data\"\n",
    "    \n",
    "ANOMALY_MODEL_REPOSITORY = BASE_PATH + \"/models_data/model\"\n",
    "PROFILE_ANOMALY_MODEL_PATH = ANOMALY_MODEL_REPOSITORY + \"/{data_source}/{anomaly_type}/{model_type}/{model_name}\"\n"
   ]
  },
  {
   "cell_type": "markdown",
   "metadata": {},
   "source": [
    "# Lets load the Event data for wgtraffic with 3 attributes"
   ]
  },
  {
   "cell_type": "code",
   "execution_count": 4,
   "metadata": {},
   "outputs": [
    {
     "name": "stdout",
     "output_type": "stream",
     "text": [
      "+--------+----------------+--------------------+--------+\n",
      "|dst_port|          info_2|              info_1|src_port|\n",
      "+--------+----------------+--------------------+--------+\n",
      "|     443| sent_bytes=7947|rcvd_bytes=18659;...|   56098|\n",
      "|     443|sent_bytes=10897|rcvd_bytes=127098...|   23554|\n",
      "|     443|sent_bytes=16704|rcvd_bytes=75672;...|   28491|\n",
      "+--------+----------------+--------------------+--------+\n",
      "only showing top 3 rows\n",
      "\n"
     ]
    },
    {
     "data": {
      "text/plain": [
       "[Row(dst_port='443', info_2='sent_bytes=7947', info_1='rcvd_bytes=18659; app_id=0', src_port='56098')]"
      ]
     },
     "execution_count": 4,
     "metadata": {},
     "output_type": "execute_result"
    }
   ],
   "source": [
    "event_sdf = spark.sql(\"select dst_port, info_2, info_1, src_port from \"+tenant_name+\".\"+data_source)\n",
    "event_sdf.show(3)\n",
    "event_sdf.rdd.take(1)"
   ]
  },
  {
   "cell_type": "code",
   "execution_count": 5,
   "metadata": {},
   "outputs": [
    {
     "name": "stdout",
     "output_type": "stream",
     "text": [
      "+--------+------+------+--------+\n",
      "|dst_port|info_2|info_1|src_port|\n",
      "+--------+------+------+--------+\n",
      "|     443|  7947| 18659|   56098|\n",
      "|     443| 10897|127098|   23554|\n",
      "|     443| 16704| 75672|   28491|\n",
      "+--------+------+------+--------+\n",
      "only showing top 3 rows\n",
      "\n"
     ]
    }
   ],
   "source": [
    "from pyspark.sql.functions import udf, col\n",
    "from pyspark.sql.types import *\n",
    "\n",
    "def pre_process_info_1(value):\n",
    "    if len(value)>0:\n",
    "        value = int(value.replace(\"rcvd_bytes=\",\"\").replace(\"; app_id=0\",\"\"))\n",
    "    else:\n",
    "        value = 0\n",
    "    return value\n",
    "\n",
    "def pre_process_info_2(value):\n",
    "    if len(value)>0:\n",
    "        value = int(value.replace(\"sent_bytes=\",\"\"))\n",
    "    else:\n",
    "        value = 0\n",
    "    return value\n",
    "\n",
    "\n",
    "udf_pre_process_info_1 = udf(pre_process_info_1, IntegerType())\n",
    "udf_pre_process_info_2 = udf(pre_process_info_2, IntegerType())\n",
    "\n",
    "\n",
    "\n",
    "event_sdf = event_sdf.withColumn(\"info_1\", udf_pre_process_info_1(col(\"info_1\")))\n",
    "event_sdf = event_sdf.withColumn(\"info_2\", udf_pre_process_info_2(col(\"info_2\")))\n",
    "\n",
    "\n",
    "event_sdf.show(3)"
   ]
  },
  {
   "cell_type": "markdown",
   "metadata": {},
   "source": [
    "## Define the columns on which Model shall be trained"
   ]
  },
  {
   "cell_type": "code",
   "execution_count": 7,
   "metadata": {},
   "outputs": [],
   "source": [
    "cat_colnames = [\"dst_port\",\"src_port\"]\n",
    "num_colnames = [\"info_2\",\"info_1\"]\n",
    "event_df = event_sdf.toPandas()\n",
    "num_data = event_df[num_colnames].values.astype(np.float64)\n",
    "if len(cat_colnames)>0:\n",
    "    cat_data = event_df[cat_colnames].values"
   ]
  },
  {
   "cell_type": "markdown",
   "metadata": {},
   "source": [
    "# Batch Training"
   ]
  },
  {
   "cell_type": "markdown",
   "metadata": {},
   "source": [
    "### IsolationForest Pipelinemodel"
   ]
  },
  {
   "cell_type": "code",
   "execution_count": 8,
   "metadata": {},
   "outputs": [],
   "source": [
    "standard_scaler = None\n",
    "if len(num_colnames)>0:\n",
    "    standard_scaler = StandardScaler()\n",
    "    num_data_normalized = standard_scaler.fit_transform(num_data)"
   ]
  },
  {
   "cell_type": "code",
   "execution_count": 9,
   "metadata": {},
   "outputs": [],
   "source": [
    "one_hot_encoder = None\n",
    "if len(cat_colnames)>0:\n",
    "    one_hot_encoder = OneHotEncoder(categories='auto')\n",
    "    cat_data_encoded = one_hot_encoder.fit_transform(cat_data).toarray()"
   ]
  },
  {
   "cell_type": "code",
   "execution_count": 10,
   "metadata": {},
   "outputs": [],
   "source": [
    "if len(num_colnames)>0 and len(cat_colnames)>0:\n",
    "    data = np.concatenate((num_data_normalized,cat_data_encoded),axis=1)\n",
    "elif len(cat_colnames):\n",
    "    data = cat_data_encoded\n",
    "elif len(num_colnames):\n",
    "    data = num_data_normalized"
   ]
  },
  {
   "cell_type": "code",
   "execution_count": 11,
   "metadata": {},
   "outputs": [],
   "source": [
    "isolation_forest = IsolationForest(behaviour='new',n_estimators=1000,max_samples=0.3,max_features=min(2,len(num_colnames+cat_colnames)),bootstrap=True,\n",
    "                                         contamination=\"auto\",\n",
    "                                         random_state=42)\n",
    "isolation_forest_model = isolation_forest.fit(data)"
   ]
  },
  {
   "cell_type": "code",
   "execution_count": 12,
   "metadata": {},
   "outputs": [],
   "source": [
    "event_df[\"score\"] = isolation_forest_model.decision_function(data).reshape(-1, 1)*-1"
   ]
  },
  {
   "cell_type": "markdown",
   "metadata": {},
   "source": [
    "### scoring pipelinemodel"
   ]
  },
  {
   "cell_type": "code",
   "execution_count": 13,
   "metadata": {},
   "outputs": [],
   "source": [
    "score = event_df[\"score\"].values.reshape(-1, 1)\n",
    "minmax_scaler = MinMaxScaler(feature_range=(0,100))\n",
    "scoring_pipeline = Pipeline(steps=[(\"MinMaxScaler\",minmax_scaler)])\n",
    "scoring_pipeline_model = scoring_pipeline.fit(score)"
   ]
  },
  {
   "cell_type": "code",
   "execution_count": 15,
   "metadata": {},
   "outputs": [
    {
     "data": {
      "text/plain": [
       "256"
      ]
     },
     "execution_count": 15,
     "metadata": {},
     "output_type": "execute_result"
    }
   ],
   "source": [
    "model_path = PROFILE_ANOMALY_MODEL_PATH.format(data_source=data_source,\\\n",
    "                                  anomaly_type=anomaly_type,\\\n",
    "                                 model_type=model_type,model_name=model_name)\n",
    "\n",
    "os.system(\"hdfs dfs -rm -r \"+model_path)"
   ]
  },
  {
   "cell_type": "markdown",
   "metadata": {},
   "source": [
    "### Save the Clustering Pipelinemodel"
   ]
  },
  {
   "cell_type": "code",
   "execution_count": 16,
   "metadata": {},
   "outputs": [],
   "source": [
    "isolation_forest_model_rdd = sc.parallelize([{\"cat_colnames\":cat_colnames,\"num_colnames\":num_colnames,\"standard_scaler\":standard_scaler,\"one_hot_encoder\":one_hot_encoder,\"isolation_forest_model\":isolation_forest_model}])\n",
    "isolation_forest_model_rdd.saveAsPickleFile(model_path+\"/if_pipeline_model\")"
   ]
  },
  {
   "cell_type": "markdown",
   "metadata": {},
   "source": [
    "### Save the Scoring Pipelinemodel"
   ]
  },
  {
   "cell_type": "code",
   "execution_count": 17,
   "metadata": {},
   "outputs": [],
   "source": [
    "scoring_pipeline_model_rdd = sc.parallelize([scoring_pipeline_model])\n",
    "scoring_pipeline_model_rdd.saveAsPickleFile(model_path+\"/scoring_pipeline_model\")"
   ]
  }
 ],
 "metadata": {
  "kernelspec": {
   "display_name": "sstech-models-v3",
   "language": "python",
   "name": "sstech-models-v3"
  },
  "language_info": {
   "codemirror_mode": {
    "name": "ipython",
    "version": 3
   },
   "file_extension": ".py",
   "mimetype": "text/x-python",
   "name": "python",
   "nbconvert_exporter": "python",
   "pygments_lexer": "ipython3",
   "version": "3.6.5"
  }
 },
 "nbformat": 4,
 "nbformat_minor": 2
}
