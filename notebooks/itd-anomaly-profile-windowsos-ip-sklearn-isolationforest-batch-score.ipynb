{
 "cells": [
  {
   "cell_type": "markdown",
   "metadata": {},
   "source": [
    "# call the libraries"
   ]
  },
  {
   "cell_type": "code",
   "execution_count": 1,
   "metadata": {},
   "outputs": [
    {
     "data": {
      "text/html": [
       "<script type=\"text/javascript\">window.PlotlyConfig = {MathJaxConfig: 'local'};</script><script type=\"text/javascript\">if (window.MathJax) {MathJax.Hub.Config({SVG: {font: \"STIX-Web\"}});}</script><script>requirejs.config({paths: { 'plotly': ['https://cdn.plot.ly/plotly-latest.min']},});if(!window._Plotly) {require(['plotly'],function(plotly) {window._Plotly=plotly;});}</script>"
      ],
      "text/vnd.plotly.v1+html": [
       "<script type=\"text/javascript\">window.PlotlyConfig = {MathJaxConfig: 'local'};</script><script type=\"text/javascript\">if (window.MathJax) {MathJax.Hub.Config({SVG: {font: \"STIX-Web\"}});}</script><script>requirejs.config({paths: { 'plotly': ['https://cdn.plot.ly/plotly-latest.min']},});if(!window._Plotly) {require(['plotly'],function(plotly) {window._Plotly=plotly;});}</script>"
      ]
     },
     "metadata": {},
     "output_type": "display_data"
    }
   ],
   "source": [
    "from pyspark.sql import SparkSession\n",
    "import matplotlib\n",
    "import matplotlib.pyplot as plt\n",
    "import numpy as np\n",
    "import io\n",
    "import numpy as np\n",
    "import os\n",
    "from pyspark.sql.functions import udf, col\n",
    "from pyspark.sql.types import *\n",
    "import scipy.stats as stats\n",
    "import numpy as np\n",
    "from sklearn.ensemble import IsolationForest\n",
    "import pandas as pd\n",
    "from sklearn.pipeline import Pipeline\n",
    "from sklearn.preprocessing import StandardScaler, MinMaxScaler\n",
    "\n",
    "import pickle\n",
    "\n",
    "from mpl_toolkits.mplot3d import Axes3D  # noqa: F401 unused import\n",
    "import matplotlib.pyplot as plt\n",
    "import numpy as np\n",
    "\n",
    "from plotly import __version__\n",
    "from plotly.offline import download_plotlyjs, init_notebook_mode, plot, iplot\n",
    "import plotly.graph_objs as go\n",
    "\n",
    "\n",
    "\n",
    "import numpy as np\n",
    "import plotly\n",
    "init_notebook_mode(connected=True)\n",
    "%matplotlib inline\n",
    "\n"
   ]
  },
  {
   "cell_type": "markdown",
   "metadata": {},
   "source": [
    "# initialize spark and spark context"
   ]
  },
  {
   "cell_type": "code",
   "execution_count": 2,
   "metadata": {},
   "outputs": [
    {
     "data": {
      "text/plain": [
       "'2.1.1'"
      ]
     },
     "execution_count": 2,
     "metadata": {},
     "output_type": "execute_result"
    }
   ],
   "source": [
    "spark = SparkSession.builder.appName('itd-anomaly-profile-windowsos-ip-sklearn-isolationforest-batch-score').getOrCreate()\n",
    "sc = spark.sparkContext\n",
    "sc.version"
   ]
  },
  {
   "cell_type": "markdown",
   "metadata": {},
   "source": [
    "# lets load the Profile data for DOME9 with 3 attributes"
   ]
  },
  {
   "cell_type": "code",
   "execution_count": 3,
   "metadata": {},
   "outputs": [],
   "source": [
    "data_source = \"windowsos\"\n",
    "tenant_name = \"itd\"\n",
    "time_window=\"day\"\n",
    "entity_type=\"ip\"\n",
    "anomaly_type=\"profile\"\n",
    "model_type=\"sklearn\"\n",
    "model_name=\"isolationforest\"\n",
    "\n",
    "BASE_PATH = \"/Users/tuhinsharma/Documents/sstech/\"+tenant_name\n",
    "ANOMALY_DATA_REPOSITORY = BASE_PATH + \"/models_data/data\"\n",
    "\n",
    "USER_PROFILE_DATA_PATH = ANOMALY_DATA_REPOSITORY + \"/{data_source}/{entity_type}/{anomaly_type}/{time_window}.json\"\n",
    "data_path = USER_PROFILE_DATA_PATH.format\\\n",
    "                                           (data_source=data_source,\\\n",
    "                                            entity_type=entity_type,anomaly_type=\"profile\",time_window=time_window)\n",
    "    \n",
    "ANOMALY_MODEL_REPOSITORY = BASE_PATH + \"/models_data/model\"\n",
    "PROFILE_ANOMALY_MODEL_PATH = ANOMALY_MODEL_REPOSITORY + \"/{data_source}/{entity_type}/{anomaly_type}/{time_window}/{model_type}/{model_name}\"\n",
    "\n"
   ]
  },
  {
   "cell_type": "code",
   "execution_count": 4,
   "metadata": {},
   "outputs": [
    {
     "name": "stdout",
     "output_type": "stream",
     "text": [
      "+---------------+-----------------+----------------+-----------+---------------------+\n",
      "|dns_error_count|increase_activity|lateral_movement|     src_ip|upload_download_ratio|\n",
      "+---------------+-----------------+----------------+-----------+---------------------+\n",
      "|           1426|            False|            True|  54.85.1.3|                  619|\n",
      "|           1446|             True|            True| 54.85.5.15|                  655|\n",
      "|           1441|             True|            True|54.85.10.16|                  614|\n",
      "+---------------+-----------------+----------------+-----------+---------------------+\n",
      "only showing top 3 rows\n",
      "\n"
     ]
    }
   ],
   "source": [
    "ip_profile_sdf = spark.read.json(data_path).persist()\n",
    "ip_profile_sdf.show(3)"
   ]
  },
  {
   "cell_type": "code",
   "execution_count": 5,
   "metadata": {},
   "outputs": [],
   "source": [
    "ip_profile_df = ip_profile_sdf.toPandas()"
   ]
  },
  {
   "cell_type": "code",
   "execution_count": 6,
   "metadata": {},
   "outputs": [],
   "source": [
    "model_path = PROFILE_ANOMALY_MODEL_PATH.format(data_source=data_source,\\\n",
    "                                  entity_type=entity_type,anomaly_type=anomaly_type,time_window=time_window,\\\n",
    "                                 model_type=model_type,model_name=model_name)"
   ]
  },
  {
   "cell_type": "markdown",
   "metadata": {},
   "source": [
    "### Load the Isolation Forest IF Pipelinemodel"
   ]
  },
  {
   "cell_type": "code",
   "execution_count": 7,
   "metadata": {},
   "outputs": [],
   "source": [
    "model_dict = sc.pickleFile(model_path+\"/if_pipeline_model\").collect()[0]  \n",
    "standard_scaler = model_dict[\"standard_scaler\"]\n",
    "one_hot_encoder = model_dict[\"one_hot_encoder\"]\n",
    "isolation_forest_model = model_dict[\"isolation_forest_model\"]\n",
    "cat_colnames = model_dict[\"cat_colnames\"]\n",
    "num_colnames = model_dict[\"num_colnames\"]\n"
   ]
  },
  {
   "cell_type": "markdown",
   "metadata": {},
   "source": [
    "### Load the Scoring Pipelinemodel"
   ]
  },
  {
   "cell_type": "code",
   "execution_count": 8,
   "metadata": {},
   "outputs": [],
   "source": [
    "scoring_pipeline_model = sc.pickleFile(model_path+\"/scoring_pipeline_model\").collect()[0]  "
   ]
  },
  {
   "cell_type": "code",
   "execution_count": 9,
   "metadata": {},
   "outputs": [],
   "source": [
    "if len(num_colnames)>0:\n",
    "    num_data = ip_profile_df[num_colnames].values.astype(np.float64)\n",
    "    \n",
    "if len(cat_colnames)>0:\n",
    "    cat_data = ip_profile_df[cat_colnames].values\n",
    "\n",
    "if len(num_colnames)>0:\n",
    "    num_data_normalized = standard_scaler.transform(num_data)\n",
    "if len(cat_colnames)>0:\n",
    "    cat_data_encoded = one_hot_encoder.transform(cat_data).toarray()\n",
    "\n",
    "if len(num_colnames)>0 and len(cat_colnames)>0:\n",
    "    data = np.concatenate((num_data_normalized,cat_data_encoded),axis=1)\n",
    "elif len(cat_colnames):\n",
    "    data = cat_data_encoded\n",
    "elif len(num_colnames):\n",
    "    data = num_data_normalized\n",
    "    \n",
    "score = isolation_forest_model.decision_function(data).reshape(-1, 1)*-1\n",
    "pas = scoring_pipeline_model.transform(score)\n",
    "ip_profile_df[\"PAS\"]=pas"
   ]
  },
  {
   "cell_type": "code",
   "execution_count": 10,
   "metadata": {},
   "outputs": [],
   "source": [
    "result_score_sdf = spark.createDataFrame(ip_profile_df)"
   ]
  },
  {
   "cell_type": "markdown",
   "metadata": {},
   "source": [
    "## stats for PAS"
   ]
  },
  {
   "cell_type": "code",
   "execution_count": 11,
   "metadata": {},
   "outputs": [
    {
     "name": "stdout",
     "output_type": "stream",
     "text": [
      "+-------+------------------+\n",
      "|summary|               PAS|\n",
      "+-------+------------------+\n",
      "|  count|              1059|\n",
      "|   mean|14.280604080090486|\n",
      "| stddev| 14.54744239878091|\n",
      "|    min|               0.0|\n",
      "|    max|             100.0|\n",
      "+-------+------------------+\n",
      "\n"
     ]
    }
   ],
   "source": [
    "result_score_sdf.select(\"PAS\").describe().show()"
   ]
  },
  {
   "cell_type": "markdown",
   "metadata": {},
   "source": [
    "# get binary response as normal/anomaly"
   ]
  },
  {
   "cell_type": "code",
   "execution_count": 12,
   "metadata": {},
   "outputs": [
    {
     "name": "stdout",
     "output_type": "stream",
     "text": [
      "+---------------+-----------------+----------------+-----------+---------------------+------------------+-------+\n",
      "|dns_error_count|increase_activity|lateral_movement|     src_ip|upload_download_ratio|               PAS|anomaly|\n",
      "+---------------+-----------------+----------------+-----------+---------------------+------------------+-------+\n",
      "|           1426|            False|            True|  54.85.1.3|                  619|2.4259972754160124|      0|\n",
      "|           1446|             True|            True| 54.85.5.15|                  655|20.587261697130163|      0|\n",
      "|           1441|             True|            True|54.85.10.16|                  614| 3.972240503350349|      0|\n",
      "|           1421|            False|            True|54.85.20.40|                  615| 3.656995395352329|      0|\n",
      "+---------------+-----------------+----------------+-----------+---------------------+------------------+-------+\n",
      "only showing top 4 rows\n",
      "\n"
     ]
    }
   ],
   "source": [
    "def is_anomaly(value):\n",
    "    if value > 60:\n",
    "        return 1\n",
    "    else:\n",
    "        return 0\n",
    "udf_is_anomaly = udf(is_anomaly,IntegerType())\n",
    "result_score_sdf = result_score_sdf.withColumn(\"anomaly\", udf_is_anomaly(\"PAS\"))\n",
    "result_score_sdf.show(4)"
   ]
  },
  {
   "cell_type": "markdown",
   "metadata": {},
   "source": [
    "# get the normal records"
   ]
  },
  {
   "cell_type": "code",
   "execution_count": 13,
   "metadata": {},
   "outputs": [
    {
     "name": "stdout",
     "output_type": "stream",
     "text": [
      "+-------+\n",
      "|anomaly|\n",
      "+-------+\n",
      "|      0|\n",
      "+-------+\n",
      "\n",
      "normal record count 1040\n"
     ]
    }
   ],
   "source": [
    "normal_sdf = result_score_sdf.where(result_score_sdf['anomaly'] == 0)\n",
    "normal_sdf.select(\"anomaly\").distinct().show()\n",
    "print(\"normal record count {count}\".format(count=normal_sdf.count()))"
   ]
  },
  {
   "cell_type": "markdown",
   "metadata": {},
   "source": [
    "# get the anomaly records"
   ]
  },
  {
   "cell_type": "code",
   "execution_count": 14,
   "metadata": {},
   "outputs": [
    {
     "name": "stdout",
     "output_type": "stream",
     "text": [
      "+-------+\n",
      "|anomaly|\n",
      "+-------+\n",
      "|      1|\n",
      "+-------+\n",
      "\n",
      "anomaly record count 19\n"
     ]
    }
   ],
   "source": [
    "anomaly_sdf = result_score_sdf.where(result_score_sdf['anomaly'] == 1)\n",
    "anomaly_sdf.select(\"anomaly\").distinct().show()\n",
    "print(\"anomaly record count {count}\".format(count=anomaly_sdf.count()))"
   ]
  },
  {
   "cell_type": "code",
   "execution_count": null,
   "metadata": {},
   "outputs": [],
   "source": []
  }
 ],
 "metadata": {
  "kernelspec": {
   "display_name": "sstech-models-v3",
   "language": "python",
   "name": "sstech-models-v3"
  },
  "language_info": {
   "codemirror_mode": {
    "name": "ipython",
    "version": 3
   },
   "file_extension": ".py",
   "mimetype": "text/x-python",
   "name": "python",
   "nbconvert_exporter": "python",
   "pygments_lexer": "ipython3",
   "version": "3.6.5"
  }
 },
 "nbformat": 4,
 "nbformat_minor": 2
}
