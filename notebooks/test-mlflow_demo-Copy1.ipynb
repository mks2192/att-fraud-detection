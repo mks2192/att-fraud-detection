{
 "cells": [
  {
   "cell_type": "code",
   "execution_count": 1,
   "metadata": {
    "collapsed": true
   },
   "outputs": [],
   "source": [
    "# import libraries\n",
    "import numpy as np\n",
    "from sys import argv\n",
    "import pandas as pd\n",
    "import pickle\n",
    "import pylab as pl\n",
    "import matplotlib\n",
    "import matplotlib.pyplot as plt\n",
    "from sklearn.model_selection import train_test_split\n",
    "from sklearn.cluster import KMeans\n",
    "import mlflow\n",
    "\n"
   ]
  },
  {
   "cell_type": "code",
   "execution_count": 2,
   "metadata": {
    "scrolled": true
   },
   "outputs": [],
   "source": [
    "#Create dummy data with 3 attributes and 1000 records\n",
    "\n",
    "x = np.random.rand(1000,3)"
   ]
  },
  {
   "cell_type": "code",
   "execution_count": 3,
   "metadata": {},
   "outputs": [
    {
     "name": "stdout",
     "output_type": "stream",
     "text": [
      "-79.5737717725\n"
     ]
    }
   ],
   "source": [
    "# Train kmeans model for input number of records. Version 1\n",
    "\n",
    "sample_train, sample_test = train_test_split(x, test_size=0.50)\n",
    "model = KMeans(n_clusters=3, random_state=0)\n",
    "train =  model.fit(sample_train)\n",
    "model.predict(sample_test)\n",
    "score=model.score(sample_test)\n",
    "\n",
    "print(score)\n",
    "centroids =  model.cluster_centers_\n",
    "labels = model.labels_\n",
    "\n",
    "# ## Figures\n",
    "plt.scatter(sample_test[:,0],sample_test[:,1], c=[plt.cm.Spectral(float(i) /10) for i in labels]);\n",
    "\n",
    "plt.scatter(centroids[:, 0], centroids[:, 1],  marker = \"x\", s=150, linewidths = 5, zorder = 10)\n",
    "# plt.show()\n",
    "plt.savefig('plot.png')"
   ]
  },
  {
   "cell_type": "code",
   "execution_count": 4,
   "metadata": {},
   "outputs": [],
   "source": [
    "# mlflow\n",
    "\n",
    "mlflow.log_param(\"Samples\",1000)\n",
    "mlflow.log_param(\"clusters\",3)\n",
    "mlflow.log_metric(\"score\",score)\n",
    "mlflow.log_artifact(\"plot.png\")"
   ]
  },
  {
   "cell_type": "code",
   "execution_count": null,
   "metadata": {
    "collapsed": true
   },
   "outputs": [],
   "source": []
  }
 ],
 "metadata": {
  "kernelspec": {
   "display_name": "Python 3",
   "language": "python",
   "name": "python3"
  },
  "language_info": {
   "codemirror_mode": {
    "name": "ipython",
    "version": 3
   },
   "file_extension": ".py",
   "mimetype": "text/x-python",
   "name": "python",
   "nbconvert_exporter": "python",
   "pygments_lexer": "ipython3",
   "version": "3.6.8"
  }
 },
 "nbformat": 4,
 "nbformat_minor": 2
}
