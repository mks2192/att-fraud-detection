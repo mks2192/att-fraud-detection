{
 "cells": [
  {
   "cell_type": "markdown",
   "metadata": {},
   "source": [
    "# Agenda for Today's Demo\n",
    "\n",
    "### 1. **Batch Model Training**\n",
    "\n",
    "### 2. **Batch Scoring**\n",
    "\n",
    "### 3. **Real-time Scoring**"
   ]
  },
  {
   "cell_type": "markdown",
   "metadata": {},
   "source": [
    "# call the libraries"
   ]
  },
  {
   "cell_type": "code",
   "execution_count": 1,
   "metadata": {},
   "outputs": [],
   "source": [
    "from pyspark.sql import SparkSession\n",
    "import matplotlib\n",
    "import matplotlib.pyplot as plt\n",
    "import numpy as np\n",
    "import io\n",
    "import numpy as np\n",
    "import scipy.stats as stats\n",
    "import pylab as pl\n",
    "from pyspark.ml.feature import StandardScaler\n",
    "from pyspark.ml.feature import VectorAssembler\n",
    "from pyspark.ml import Pipeline,PipelineModel\n",
    "from pyspark.ml.clustering import KMeans\n",
    "from pyspark.sql.functions import udf, col\n",
    "from pyspark.sql.types import *\n",
    "import numpy as np\n",
    "from pyspark.ml.feature import MinMaxScaler\n",
    "%matplotlib inline\n",
    "import pandas as pd\n"
   ]
  },
  {
   "cell_type": "markdown",
   "metadata": {},
   "source": [
    "# initialize spark and spark context"
   ]
  },
  {
   "cell_type": "code",
   "execution_count": 2,
   "metadata": {},
   "outputs": [
    {
     "data": {
      "text/plain": [
       "'2.1.1'"
      ]
     },
     "execution_count": 2,
     "metadata": {},
     "output_type": "execute_result"
    }
   ],
   "source": [
    "spark = SparkSession.builder.appName('test-test').getOrCreate()\n",
    "sc = spark.sparkContext\n",
    "sc.version"
   ]
  },
  {
   "cell_type": "code",
   "execution_count": 3,
   "metadata": {},
   "outputs": [],
   "source": [
    "input_req = {\"user_name\": [\"pa0780@att.com\"],\n",
    "                 \"logon_count\": [\"100\"],\n",
    "                 \"inbound_conn_count\": [\"200\"],\n",
    "                 \"outbound_conn_count\": [\"300\"],\n",
    "                 \"increase_activity\": [\"True\"],\n",
    "                 \"lateral_movement\": [\"False\"],\n",
    "                 \"time_window\": [\"hour\"]}"
   ]
  },
  {
   "cell_type": "code",
   "execution_count": 4,
   "metadata": {},
   "outputs": [],
   "source": [
    "df = pd.DataFrame.from_dict(input_req)"
   ]
  },
  {
   "cell_type": "code",
   "execution_count": 5,
   "metadata": {},
   "outputs": [],
   "source": [
    "df[\"logon_count\"] = df[\"logon_count\"].astype(int)\n",
    "df[\"inbound_conn_count\"] = df[\"inbound_conn_count\"].astype(int)\n",
    "df[\"outbound_conn_count\"] = df[\"outbound_conn_count\"].astype(int)"
   ]
  },
  {
   "cell_type": "code",
   "execution_count": 6,
   "metadata": {},
   "outputs": [
    {
     "data": {
      "text/plain": [
       "inbound_conn_count      int64\n",
       "increase_activity      object\n",
       "lateral_movement       object\n",
       "logon_count             int64\n",
       "outbound_conn_count     int64\n",
       "time_window            object\n",
       "user_name              object\n",
       "dtype: object"
      ]
     },
     "execution_count": 6,
     "metadata": {},
     "output_type": "execute_result"
    }
   ],
   "source": [
    "df.dtypes"
   ]
  },
  {
   "cell_type": "code",
   "execution_count": 7,
   "metadata": {},
   "outputs": [],
   "source": [
    "sdf = spark.createDataFrame(df)"
   ]
  },
  {
   "cell_type": "code",
   "execution_count": 8,
   "metadata": {},
   "outputs": [
    {
     "name": "stdout",
     "output_type": "stream",
     "text": [
      "+------------------+-----------------+----------------+-----------+-------------------+-----------+--------------+\n",
      "|inbound_conn_count|increase_activity|lateral_movement|logon_count|outbound_conn_count|time_window|     user_name|\n",
      "+------------------+-----------------+----------------+-----------+-------------------+-----------+--------------+\n",
      "|               200|             True|           False|        100|                300|       hour|pa0780@att.com|\n",
      "+------------------+-----------------+----------------+-----------+-------------------+-----------+--------------+\n",
      "\n"
     ]
    }
   ],
   "source": [
    "sdf.show()"
   ]
  },
  {
   "cell_type": "code",
   "execution_count": 9,
   "metadata": {},
   "outputs": [
    {
     "name": "stdout",
     "output_type": "stream",
     "text": [
      "root\n",
      " |-- inbound_conn_count: long (nullable = true)\n",
      " |-- increase_activity: string (nullable = true)\n",
      " |-- lateral_movement: string (nullable = true)\n",
      " |-- logon_count: long (nullable = true)\n",
      " |-- outbound_conn_count: long (nullable = true)\n",
      " |-- time_window: string (nullable = true)\n",
      " |-- user_name: string (nullable = true)\n",
      "\n"
     ]
    }
   ],
   "source": [
    "sdf.printSchema()"
   ]
  },
  {
   "cell_type": "code",
   "execution_count": null,
   "metadata": {},
   "outputs": [],
   "source": []
  }
 ],
 "metadata": {
  "kernelspec": {
   "display_name": "sstech-models-v3",
   "language": "python",
   "name": "sstech-models-v3"
  },
  "language_info": {
   "codemirror_mode": {
    "name": "ipython",
    "version": 3
   },
   "file_extension": ".py",
   "mimetype": "text/x-python",
   "name": "python",
   "nbconvert_exporter": "python",
   "pygments_lexer": "ipython3",
   "version": "3.6.5"
  }
 },
 "nbformat": 4,
 "nbformat_minor": 2
}
