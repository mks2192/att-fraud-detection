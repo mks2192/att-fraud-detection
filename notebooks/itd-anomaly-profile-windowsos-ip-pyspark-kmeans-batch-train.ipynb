{
 "cells": [
  {
   "cell_type": "markdown",
   "metadata": {},
   "source": [
    "# Agenda for Today's Demo\n",
    "\n",
    "### 1. **Batch Model Training**\n",
    "\n",
    "### 2. **Batch Scoring**\n",
    "\n",
    "### 3. **Real-time Scoring**"
   ]
  },
  {
   "cell_type": "markdown",
   "metadata": {},
   "source": [
    "# call the libraries"
   ]
  },
  {
   "cell_type": "code",
   "execution_count": 1,
   "metadata": {},
   "outputs": [],
   "source": [
    "from pyspark.sql import SparkSession\n",
    "import matplotlib\n",
    "import matplotlib.pyplot as plt\n",
    "import numpy as np\n",
    "import io\n",
    "import numpy as np\n",
    "import scipy.stats as stats\n",
    "import pylab as pl\n",
    "from pyspark.ml.feature import StandardScaler\n",
    "from pyspark.ml.feature import VectorAssembler\n",
    "from pyspark.ml import Pipeline,PipelineModel\n",
    "from pyspark.ml.clustering import KMeans\n",
    "from pyspark.sql.functions import udf, col\n",
    "from pyspark.sql.types import *\n",
    "import numpy as np\n",
    "from pyspark.ml.feature import MinMaxScaler\n",
    "%matplotlib inline\n",
    "\n"
   ]
  },
  {
   "cell_type": "markdown",
   "metadata": {},
   "source": [
    "# initialize spark and spark context"
   ]
  },
  {
   "cell_type": "code",
   "execution_count": 2,
   "metadata": {},
   "outputs": [
    {
     "data": {
      "text/plain": [
       "'2.1.1'"
      ]
     },
     "execution_count": 2,
     "metadata": {},
     "output_type": "execute_result"
    }
   ],
   "source": [
    "spark = SparkSession.builder.appName('itd-anomaly-profile-windowsos-ip-pyspark-kmeans-batch-train').getOrCreate()\n",
    "sc = spark.sparkContext\n",
    "sc.version"
   ]
  },
  {
   "cell_type": "code",
   "execution_count": 3,
   "metadata": {},
   "outputs": [],
   "source": [
    "data_source = \"windowsos\"\n",
    "tenant_name = \"itd\"\n",
    "time_window=\"day\"\n",
    "entity_type=\"ip\"\n",
    "anomaly_type=\"profile\"\n",
    "model_type=\"pyspark\"\n",
    "model_name=\"kmeans\"\n",
    "\n",
    "BASE_PATH = \"/Users/tuhinsharma/Documents/sstech/\"+tenant_name\n",
    "ANOMALY_DATA_REPOSITORY = BASE_PATH + \"/models_data/data\"\n",
    "\n",
    "USER_PROFILE_DATA_PATH = ANOMALY_DATA_REPOSITORY + \"/{data_source}/{entity_type}/{anomaly_type}/{time_window}.json\"\n",
    "data_path = USER_PROFILE_DATA_PATH.format\\\n",
    "                                           (data_source=data_source,\\\n",
    "                                            entity_type=entity_type,anomaly_type=\"profile\",time_window=time_window)\n",
    "    \n",
    "ANOMALY_MODEL_REPOSITORY = BASE_PATH + \"/models_data/model\"\n",
    "PROFILE_ANOMALY_MODEL_PATH = ANOMALY_MODEL_REPOSITORY + \"/{data_source}/{entity_type}/{anomaly_type}/{time_window}/{model_type}/{model_name}\"\n"
   ]
  },
  {
   "cell_type": "markdown",
   "metadata": {},
   "source": [
    "# Lets load the Profile data for DOME9 with 3 attributes"
   ]
  },
  {
   "cell_type": "code",
   "execution_count": 4,
   "metadata": {},
   "outputs": [
    {
     "name": "stdout",
     "output_type": "stream",
     "text": [
      "+---------------+-----------------+----------------+-----------+---------------------+\n",
      "|dns_error_count|increase_activity|lateral_movement|     src_ip|upload_download_ratio|\n",
      "+---------------+-----------------+----------------+-----------+---------------------+\n",
      "|           1426|            False|            True|  54.85.1.3|                  619|\n",
      "|           1446|             True|            True| 54.85.5.15|                  655|\n",
      "|           1441|             True|            True|54.85.10.16|                  614|\n",
      "+---------------+-----------------+----------------+-----------+---------------------+\n",
      "only showing top 3 rows\n",
      "\n"
     ]
    }
   ],
   "source": [
    "ip_profile_sdf = spark.read.json(data_path).persist()\n",
    "ip_profile_sdf.show(3)"
   ]
  },
  {
   "cell_type": "markdown",
   "metadata": {},
   "source": [
    "## Define the columns on which Model shall be trained"
   ]
  },
  {
   "cell_type": "code",
   "execution_count": 5,
   "metadata": {},
   "outputs": [],
   "source": [
    "cat_colnames = [\"increase_activity\",\"lateral_movement\"]\n",
    "num_colnames = [\"upload_download_ratio\",\"dns_error_count\"]"
   ]
  },
  {
   "cell_type": "markdown",
   "metadata": {},
   "source": [
    "# Batch Training"
   ]
  },
  {
   "cell_type": "markdown",
   "metadata": {},
   "source": [
    "### Clustering Pipelinemodel"
   ]
  },
  {
   "cell_type": "code",
   "execution_count": 6,
   "metadata": {},
   "outputs": [],
   "source": [
    "from pyspark.ml.feature import OneHotEncoder, StringIndexer\n",
    "string_indexer_list = list()\n",
    "one_hot_encoder_list = list()\n",
    "for cat_colname in cat_colnames:\n",
    "    string_indexer = StringIndexer(inputCol=cat_colname, outputCol=cat_colname+\"_index\")\n",
    "    string_indexer_list.append(string_indexer)\n",
    "    one_hot_encoder = OneHotEncoder(inputCol=cat_colname+\"_index\", outputCol=cat_colname+\"_vec\")\n",
    "    one_hot_encoder_list.append(one_hot_encoder)\n"
   ]
  },
  {
   "cell_type": "code",
   "execution_count": 7,
   "metadata": {},
   "outputs": [],
   "source": [
    "out = []\n",
    "pipe = []\n",
    "if len(num_colnames)>0:\n",
    "    assembler = VectorAssembler(inputCols=num_colnames,outputCol=\"features_vec\")\n",
    "    standard_scaler = StandardScaler(inputCol=\"features_vec\", outputCol=\"features_zs\",withMean=True,withStd=True)\n",
    "    out = [standard_scaler.getOutputCol()]\n",
    "    pipe = [assembler,standard_scaler]\n",
    "assembler_2 = VectorAssembler(inputCols=[x.getOutputCol() for x in one_hot_encoder_list]+out,outputCol=\"features\")\n",
    "estimator = KMeans(featuresCol=\"features\",predictionCol=\"cluster_id\",k=4)\n",
    "\n",
    "clustering_pipeline = Pipeline(stages=string_indexer_list+one_hot_encoder_list+pipe+[assembler_2]+[estimator])\n",
    "clustering_pipeline_model = clustering_pipeline.fit(ip_profile_sdf)\n"
   ]
  },
  {
   "cell_type": "code",
   "execution_count": 8,
   "metadata": {},
   "outputs": [
    {
     "name": "stdout",
     "output_type": "stream",
     "text": [
      "+---------------+-----------------+----------------+-----------+---------------------+-----------------------+----------------------+---------------------+--------------------+--------------+--------------------+--------------------+----------+\n",
      "|dns_error_count|increase_activity|lateral_movement|     src_ip|upload_download_ratio|increase_activity_index|lateral_movement_index|increase_activity_vec|lateral_movement_vec|  features_vec|         features_zs|            features|cluster_id|\n",
      "+---------------+-----------------+----------------+-----------+---------------------+-----------------------+----------------------+---------------------+--------------------+--------------+--------------------+--------------------+----------+\n",
      "|           1426|            False|            True|  54.85.1.3|                  619|                    0.0|                   0.0|        (1,[0],[1.0])|       (1,[0],[1.0])|[619.0,1426.0]|[-0.9821795807138...|[1.0,1.0,-0.98217...|         1|\n",
      "|           1446|             True|            True| 54.85.5.15|                  655|                    1.0|                   0.0|            (1,[],[])|       (1,[0],[1.0])|[655.0,1446.0]|[-0.8417355925993...|[0.0,1.0,-0.84173...|         1|\n",
      "|           1441|             True|            True|54.85.10.16|                  614|                    1.0|                   0.0|            (1,[],[])|       (1,[0],[1.0])|[614.0,1441.0]|[-1.0016856901741...|[0.0,1.0,-1.00168...|         1|\n",
      "+---------------+-----------------+----------------+-----------+---------------------+-----------------------+----------------------+---------------------+--------------------+--------------+--------------------+--------------------+----------+\n",
      "only showing top 3 rows\n",
      "\n"
     ]
    }
   ],
   "source": [
    "result_cluster_sdf = clustering_pipeline_model.transform(ip_profile_sdf).persist()\n",
    "result_cluster_sdf.show(3)"
   ]
  },
  {
   "cell_type": "code",
   "execution_count": 9,
   "metadata": {},
   "outputs": [
    {
     "data": {
      "text/plain": [
       "[1, 2, 0, 3]"
      ]
     },
     "execution_count": 9,
     "metadata": {},
     "output_type": "execute_result"
    }
   ],
   "source": [
    "result_cluster_sdf.rdd.map(lambda x : x[\"cluster_id\"]).distinct().collect()"
   ]
  },
  {
   "cell_type": "markdown",
   "metadata": {},
   "source": [
    "### For each data points calculate sum of euclidean distance (SED) for all the cluster centroids"
   ]
  },
  {
   "cell_type": "code",
   "execution_count": 10,
   "metadata": {},
   "outputs": [
    {
     "name": "stdout",
     "output_type": "stream",
     "text": [
      "number of centroids :  4\n",
      "[[ 0.          0.          0.95540729 -0.94494604]\n",
      " [ 0.5         0.5        -0.9752894   0.97091796]\n",
      " [ 0.50364964  1.          0.96149744 -0.95994225]\n",
      " [ 1.          0.          0.9716975  -0.96771848]]\n",
      "+---------------+-----------------+----------------+-----------+---------------------+-----------------------+----------------------+---------------------+--------------------+--------------+--------------------+--------------------+----------+--------+\n",
      "|dns_error_count|increase_activity|lateral_movement|     src_ip|upload_download_ratio|increase_activity_index|lateral_movement_index|increase_activity_vec|lateral_movement_vec|  features_vec|         features_zs|            features|cluster_id|     sed|\n",
      "+---------------+-----------------+----------------+-----------+---------------------+-----------------------+----------------------+---------------------+--------------------+--------------+--------------------+--------------------+----------+--------+\n",
      "|           1426|            False|            True|  54.85.1.3|                  619|                    0.0|                   0.0|        (1,[0],[1.0])|       (1,[0],[1.0])|[619.0,1426.0]|[-0.9821795807138...|[1.0,1.0,-0.98217...|         1|9.473489|\n",
      "|           1446|             True|            True| 54.85.5.15|                  655|                    1.0|                   0.0|            (1,[],[])|       (1,[0],[1.0])|[655.0,1446.0]|[-0.8417355925993...|[0.0,1.0,-0.84173...|         1|9.373591|\n",
      "|           1441|             True|            True|54.85.10.16|                  614|                    1.0|                   0.0|            (1,[],[])|       (1,[0],[1.0])|[614.0,1441.0]|[-1.0016856901741...|[0.0,1.0,-1.00168...|         1|9.629855|\n",
      "+---------------+-----------------+----------------+-----------+---------------------+-----------------------+----------------------+---------------------+--------------------+--------------+--------------------+--------------------+----------+--------+\n",
      "only showing top 3 rows\n",
      "\n"
     ]
    }
   ],
   "source": [
    "def calculate_SED_from_all_centroids(value,centroids):\n",
    "    single_point = value\n",
    "    points = centroids\n",
    "\n",
    "    dist = (points - single_point)**2\n",
    "    dist = np.sum(dist, axis=1)\n",
    "    dist = np.sqrt(dist)\n",
    "    dist = np.sum(dist)\n",
    "    return float(dist)\n",
    "\n",
    "def udf_calculate_SED(centroid_list):\n",
    "    return udf(lambda l: calculate_SED_from_all_centroids(l, centroid_list),FloatType())\n",
    "\n",
    "centroids = np.array(clustering_pipeline_model.stages[-1].clusterCenters())\n",
    "print(\"number of centroids : \",centroids.shape[0])\n",
    "print(centroids)\n",
    "\n",
    "result_score_sdf = result_cluster_sdf.withColumn(\"sed\", udf_calculate_SED(centroids)(col(\"features\")))\n",
    "result_score_sdf.show(3)"
   ]
  },
  {
   "cell_type": "markdown",
   "metadata": {},
   "source": [
    "### Calculate Anomaly Score based on the sed"
   ]
  },
  {
   "cell_type": "code",
   "execution_count": 11,
   "metadata": {},
   "outputs": [
    {
     "name": "stdout",
     "output_type": "stream",
     "text": [
      "+---------------+-----------------+----------------+-----------+---------------------+-----------------------+----------------------+---------------------+--------------------+--------------+--------------------+--------------------+----------+--------+-------------------+--------------------+\n",
      "|dns_error_count|increase_activity|lateral_movement|     src_ip|upload_download_ratio|increase_activity_index|lateral_movement_index|increase_activity_vec|lateral_movement_vec|  features_vec|         features_zs|            features|cluster_id|     sed|            sed_vec|          scaled_sed|\n",
      "+---------------+-----------------+----------------+-----------+---------------------+-----------------------+----------------------+---------------------+--------------------+--------------+--------------------+--------------------+----------+--------+-------------------+--------------------+\n",
      "|           1426|            False|            True|  54.85.1.3|                  619|                    0.0|                   0.0|        (1,[0],[1.0])|       (1,[0],[1.0])|[619.0,1426.0]|[-0.9821795807138...|[1.0,1.0,-0.98217...|         1|9.473489|[9.473488807678223]|[0.39056088332091...|\n",
      "|           1446|             True|            True| 54.85.5.15|                  655|                    1.0|                   0.0|            (1,[],[])|       (1,[0],[1.0])|[655.0,1446.0]|[-0.8417355925993...|[0.0,1.0,-0.84173...|         1|9.373591|[9.373591423034668]|[0.3819584413771298]|\n",
      "|           1441|             True|            True|54.85.10.16|                  614|                    1.0|                   0.0|            (1,[],[])|       (1,[0],[1.0])|[614.0,1441.0]|[-1.0016856901741...|[0.0,1.0,-1.00168...|         1|9.629855|[9.629855155944824]|[0.4040260249532409]|\n",
      "+---------------+-----------------+----------------+-----------+---------------------+-----------------------+----------------------+---------------------+--------------------+--------------+--------------------+--------------------+----------+--------+-------------------+--------------------+\n",
      "only showing top 3 rows\n",
      "\n"
     ]
    }
   ],
   "source": [
    "assembler = VectorAssembler(inputCols=[\"sed\"],outputCol=\"sed_vec\")\n",
    "scaler = MinMaxScaler(inputCol=\"sed_vec\", outputCol=\"scaled_sed\")\n",
    "\n",
    "scoring_pipeline = Pipeline(stages=[assembler,scaler])\n",
    "scoring_pipeline_model = scoring_pipeline.fit(result_score_sdf)\n",
    "\n",
    "result_scaler_sdf = scoring_pipeline_model.transform(result_score_sdf)\n",
    "result_scaler_sdf.show(3)"
   ]
  },
  {
   "cell_type": "code",
   "execution_count": 12,
   "metadata": {},
   "outputs": [],
   "source": [
    "model_path = PROFILE_ANOMALY_MODEL_PATH.format(data_source=data_source,\\\n",
    "                                  entity_type=entity_type,anomaly_type=anomaly_type,time_window=time_window,\\\n",
    "                                 model_type=model_type,model_name=model_name)"
   ]
  },
  {
   "cell_type": "markdown",
   "metadata": {},
   "source": [
    "### Save the Clustering Pipelinemodel"
   ]
  },
  {
   "cell_type": "code",
   "execution_count": 13,
   "metadata": {},
   "outputs": [],
   "source": [
    "\n",
    "clustering_pipeline_model.write().overwrite().save(model_path+\"/clustering_pipeline_model\")\n"
   ]
  },
  {
   "cell_type": "markdown",
   "metadata": {},
   "source": [
    "### Save the Scoring Pipelinemodel"
   ]
  },
  {
   "cell_type": "code",
   "execution_count": 14,
   "metadata": {},
   "outputs": [],
   "source": [
    "\n",
    "scoring_pipeline_model.write().overwrite().save(model_path+\"/scoring_pipeline_model\")\n"
   ]
  },
  {
   "cell_type": "code",
   "execution_count": null,
   "metadata": {},
   "outputs": [],
   "source": []
  }
 ],
 "metadata": {
  "kernelspec": {
   "display_name": "sstech-models-v3",
   "language": "python",
   "name": "sstech-models-v3"
  },
  "language_info": {
   "codemirror_mode": {
    "name": "ipython",
    "version": 3
   },
   "file_extension": ".py",
   "mimetype": "text/x-python",
   "name": "python",
   "nbconvert_exporter": "python",
   "pygments_lexer": "ipython3",
   "version": "3.6.5"
  }
 },
 "nbformat": 4,
 "nbformat_minor": 2
}
